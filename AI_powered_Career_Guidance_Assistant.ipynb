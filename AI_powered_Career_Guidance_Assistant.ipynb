{
  "nbformat": 4,
  "nbformat_minor": 0,
  "metadata": {
    "colab": {
      "provenance": []
    },
    "kernelspec": {
      "name": "python3",
      "display_name": "Python 3"
    },
    "language_info": {
      "name": "python"
    }
  },
  "cells": [
    {
      "cell_type": "markdown",
      "source": [
        "#AI-powered Career Guidance Assistant\n",
        "\n",
        "# 🎓 Mini Project Assignment – AI-powered Career Guidance Assistant\n",
        "\n",
        "### 📌 Problem Statement\n",
        "\n",
        "Design and implement an **AI-powered Career Guidance Assistant** that helps students in **10th & 12th class** decide their career paths. The system must utilize **Sequential, Parallel, Branch, and Routing Chains** in LangChain to demonstrate understanding of multi-chain orchestration.\n",
        "\n",
        "The assistant should accept student details (subjects, marks, interests, and goals), process them through different chains, and finally generate a **Career Recommendation Report**.\n",
        "\n",
        "---\n",
        "\n",
        "### 🎯 Objectives\n",
        "\n",
        "1. To gain hands-on experience in designing **Sequential, Parallel, Branch, and Routing chains**.\n",
        "2. To learn how to combine multiple reasoning pipelines into a unified assistant.\n",
        "3. To build a practical use case of **AI-driven decision-making** for student career guidance.\n",
        "4. To produce structured outputs suitable for **recommendation reports**.\n",
        "\n",
        "---\n",
        "\n",
        "### 📌 Functional Requirements\n",
        "\n",
        "#### **1. Sequential Chain (Step-by-Step Processing)**\n",
        "\n",
        "* Input: Raw student text (e.g., *“I like Math and Computers. My science marks are 80%”*).\n",
        "* Tasks:\n",
        "\n",
        "  1. **Step 1** → Clean and preprocess the input (remove noise, standardize).\n",
        "  2. **Step 2** → Extract key entities (marks, interests, subjects).\n",
        "  3. **Step 3** → Store them in a structured dictionary.\n",
        "\n",
        "---\n",
        "\n",
        "#### **2. Parallel Chain (Simultaneous Tasks)**\n",
        "\n",
        "* Using the extracted student profile, run three tasks in **parallel**:\n",
        "\n",
        "  * Generate a **short summary** of the student.\n",
        "  * Identify **key strengths & weaknesses**.\n",
        "  * Suggest the **top 3 possible career domains** (science, commerce, arts, vocational).\n",
        "\n",
        "---\n",
        "\n",
        "#### **3. Branch Chain (Conditional Decision Flow)**\n",
        "\n",
        "* Apply if-else logic:\n",
        "\n",
        "  * If science marks ≥ 70% → Science Track.\n",
        "  * Else if commerce marks ≥ 65% → Commerce Track.\n",
        "  * Else if creativity-related interests detected → Arts Track.\n",
        "  * Else → Vocational Track.\n",
        "\n",
        "---\n",
        "\n",
        "#### **4. Routing Chain (Specialized Advisors)**\n",
        "\n",
        "* Based on the chosen track, route to the corresponding specialist chain:\n",
        "\n",
        "  * **Science Advisor** → Suggest Engineering, Medicine, IT.\n",
        "  * **Commerce Advisor** → Suggest Finance, CA, MBA.\n",
        "  * **Arts Advisor** → Suggest Media, Literature, Fine Arts.\n",
        "  * **Vocational Advisor** → Suggest ITI, Technical Diplomas, Certifications.\n",
        "\n",
        "---\n",
        "\n",
        "### 📄 Expected Final Output\n",
        "\n",
        "A **Career Recommendation Report** containing:\n",
        "\n",
        "1. Student Profile (from Sequential Chain).\n",
        "2. Summary, Strengths, Career Domains (from Parallel Chain).\n",
        "3. Recommended Track (from Branch Chain).\n",
        "4. Detailed Career Options (from Routing Chain).\n",
        "\n",
        "---\n",
        "\n",
        "### 📦 Deliverables\n",
        "\n",
        "1. **Source Code** – Implementing all chains.\n",
        "2. **Documentation** – Explaining chain design and flow.\n",
        "3. **Sample Run Screenshots** – Input & final report.\n",
        "4. **Final Report File** – Career recommendation in JSON/Text format.\n",
        "\n",
        "---"
      ],
      "metadata": {
        "id": "bNR-MDUOYqD4"
      }
    },
    {
      "cell_type": "code",
      "execution_count": 2,
      "metadata": {
        "colab": {
          "base_uri": "https://localhost:8080/"
        },
        "id": "SI-e_0OKXopG",
        "outputId": "a6cf14f6-b2a8-47ff-fd82-8d25739368aa"
      },
      "outputs": [
        {
          "output_type": "stream",
          "name": "stdout",
          "text": [
            "Requirement already satisfied: langchain in /usr/local/lib/python3.12/dist-packages (0.3.27)\n",
            "Requirement already satisfied: langchain-core<1.0.0,>=0.3.72 in /usr/local/lib/python3.12/dist-packages (from langchain) (0.3.74)\n",
            "Requirement already satisfied: langchain-text-splitters<1.0.0,>=0.3.9 in /usr/local/lib/python3.12/dist-packages (from langchain) (0.3.9)\n",
            "Requirement already satisfied: langsmith>=0.1.17 in /usr/local/lib/python3.12/dist-packages (from langchain) (0.4.14)\n",
            "Requirement already satisfied: pydantic<3.0.0,>=2.7.4 in /usr/local/lib/python3.12/dist-packages (from langchain) (2.11.7)\n",
            "Requirement already satisfied: SQLAlchemy<3,>=1.4 in /usr/local/lib/python3.12/dist-packages (from langchain) (2.0.43)\n",
            "Requirement already satisfied: requests<3,>=2 in /usr/local/lib/python3.12/dist-packages (from langchain) (2.32.4)\n",
            "Requirement already satisfied: PyYAML>=5.3 in /usr/local/lib/python3.12/dist-packages (from langchain) (6.0.2)\n",
            "Requirement already satisfied: tenacity!=8.4.0,<10.0.0,>=8.1.0 in /usr/local/lib/python3.12/dist-packages (from langchain-core<1.0.0,>=0.3.72->langchain) (8.5.0)\n",
            "Requirement already satisfied: jsonpatch<2.0,>=1.33 in /usr/local/lib/python3.12/dist-packages (from langchain-core<1.0.0,>=0.3.72->langchain) (1.33)\n",
            "Requirement already satisfied: typing-extensions>=4.7 in /usr/local/lib/python3.12/dist-packages (from langchain-core<1.0.0,>=0.3.72->langchain) (4.14.1)\n",
            "Requirement already satisfied: packaging>=23.2 in /usr/local/lib/python3.12/dist-packages (from langchain-core<1.0.0,>=0.3.72->langchain) (25.0)\n",
            "Requirement already satisfied: httpx<1,>=0.23.0 in /usr/local/lib/python3.12/dist-packages (from langsmith>=0.1.17->langchain) (0.28.1)\n",
            "Requirement already satisfied: orjson>=3.9.14 in /usr/local/lib/python3.12/dist-packages (from langsmith>=0.1.17->langchain) (3.11.2)\n",
            "Requirement already satisfied: requests-toolbelt>=1.0.0 in /usr/local/lib/python3.12/dist-packages (from langsmith>=0.1.17->langchain) (1.0.0)\n",
            "Requirement already satisfied: zstandard>=0.23.0 in /usr/local/lib/python3.12/dist-packages (from langsmith>=0.1.17->langchain) (0.24.0)\n",
            "Requirement already satisfied: annotated-types>=0.6.0 in /usr/local/lib/python3.12/dist-packages (from pydantic<3.0.0,>=2.7.4->langchain) (0.7.0)\n",
            "Requirement already satisfied: pydantic-core==2.33.2 in /usr/local/lib/python3.12/dist-packages (from pydantic<3.0.0,>=2.7.4->langchain) (2.33.2)\n",
            "Requirement already satisfied: typing-inspection>=0.4.0 in /usr/local/lib/python3.12/dist-packages (from pydantic<3.0.0,>=2.7.4->langchain) (0.4.1)\n",
            "Requirement already satisfied: charset_normalizer<4,>=2 in /usr/local/lib/python3.12/dist-packages (from requests<3,>=2->langchain) (3.4.3)\n",
            "Requirement already satisfied: idna<4,>=2.5 in /usr/local/lib/python3.12/dist-packages (from requests<3,>=2->langchain) (3.10)\n",
            "Requirement already satisfied: urllib3<3,>=1.21.1 in /usr/local/lib/python3.12/dist-packages (from requests<3,>=2->langchain) (2.5.0)\n",
            "Requirement already satisfied: certifi>=2017.4.17 in /usr/local/lib/python3.12/dist-packages (from requests<3,>=2->langchain) (2025.8.3)\n",
            "Requirement already satisfied: greenlet>=1 in /usr/local/lib/python3.12/dist-packages (from SQLAlchemy<3,>=1.4->langchain) (3.2.4)\n",
            "Requirement already satisfied: anyio in /usr/local/lib/python3.12/dist-packages (from httpx<1,>=0.23.0->langsmith>=0.1.17->langchain) (4.10.0)\n",
            "Requirement already satisfied: httpcore==1.* in /usr/local/lib/python3.12/dist-packages (from httpx<1,>=0.23.0->langsmith>=0.1.17->langchain) (1.0.9)\n",
            "Requirement already satisfied: h11>=0.16 in /usr/local/lib/python3.12/dist-packages (from httpcore==1.*->httpx<1,>=0.23.0->langsmith>=0.1.17->langchain) (0.16.0)\n",
            "Requirement already satisfied: jsonpointer>=1.9 in /usr/local/lib/python3.12/dist-packages (from jsonpatch<2.0,>=1.33->langchain-core<1.0.0,>=0.3.72->langchain) (3.0.0)\n",
            "Requirement already satisfied: sniffio>=1.1 in /usr/local/lib/python3.12/dist-packages (from anyio->httpx<1,>=0.23.0->langsmith>=0.1.17->langchain) (1.3.1)\n",
            "Collecting langchain-community\n",
            "  Downloading langchain_community-0.3.27-py3-none-any.whl.metadata (2.9 kB)\n",
            "Requirement already satisfied: langchain-core<1.0.0,>=0.3.66 in /usr/local/lib/python3.12/dist-packages (from langchain-community) (0.3.74)\n",
            "Requirement already satisfied: langchain<1.0.0,>=0.3.26 in /usr/local/lib/python3.12/dist-packages (from langchain-community) (0.3.27)\n",
            "Requirement already satisfied: SQLAlchemy<3,>=1.4 in /usr/local/lib/python3.12/dist-packages (from langchain-community) (2.0.43)\n",
            "Requirement already satisfied: requests<3,>=2 in /usr/local/lib/python3.12/dist-packages (from langchain-community) (2.32.4)\n",
            "Requirement already satisfied: PyYAML>=5.3 in /usr/local/lib/python3.12/dist-packages (from langchain-community) (6.0.2)\n",
            "Requirement already satisfied: aiohttp<4.0.0,>=3.8.3 in /usr/local/lib/python3.12/dist-packages (from langchain-community) (3.12.15)\n",
            "Requirement already satisfied: tenacity!=8.4.0,<10,>=8.1.0 in /usr/local/lib/python3.12/dist-packages (from langchain-community) (8.5.0)\n",
            "Collecting dataclasses-json<0.7,>=0.5.7 (from langchain-community)\n",
            "  Downloading dataclasses_json-0.6.7-py3-none-any.whl.metadata (25 kB)\n",
            "Requirement already satisfied: pydantic-settings<3.0.0,>=2.4.0 in /usr/local/lib/python3.12/dist-packages (from langchain-community) (2.10.1)\n",
            "Requirement already satisfied: langsmith>=0.1.125 in /usr/local/lib/python3.12/dist-packages (from langchain-community) (0.4.14)\n",
            "Requirement already satisfied: httpx-sse<1.0.0,>=0.4.0 in /usr/local/lib/python3.12/dist-packages (from langchain-community) (0.4.1)\n",
            "Requirement already satisfied: numpy>=1.26.2 in /usr/local/lib/python3.12/dist-packages (from langchain-community) (2.0.2)\n",
            "Requirement already satisfied: aiohappyeyeballs>=2.5.0 in /usr/local/lib/python3.12/dist-packages (from aiohttp<4.0.0,>=3.8.3->langchain-community) (2.6.1)\n",
            "Requirement already satisfied: aiosignal>=1.4.0 in /usr/local/lib/python3.12/dist-packages (from aiohttp<4.0.0,>=3.8.3->langchain-community) (1.4.0)\n",
            "Requirement already satisfied: attrs>=17.3.0 in /usr/local/lib/python3.12/dist-packages (from aiohttp<4.0.0,>=3.8.3->langchain-community) (25.3.0)\n",
            "Requirement already satisfied: frozenlist>=1.1.1 in /usr/local/lib/python3.12/dist-packages (from aiohttp<4.0.0,>=3.8.3->langchain-community) (1.7.0)\n",
            "Requirement already satisfied: multidict<7.0,>=4.5 in /usr/local/lib/python3.12/dist-packages (from aiohttp<4.0.0,>=3.8.3->langchain-community) (6.6.4)\n",
            "Requirement already satisfied: propcache>=0.2.0 in /usr/local/lib/python3.12/dist-packages (from aiohttp<4.0.0,>=3.8.3->langchain-community) (0.3.2)\n",
            "Requirement already satisfied: yarl<2.0,>=1.17.0 in /usr/local/lib/python3.12/dist-packages (from aiohttp<4.0.0,>=3.8.3->langchain-community) (1.20.1)\n",
            "Collecting marshmallow<4.0.0,>=3.18.0 (from dataclasses-json<0.7,>=0.5.7->langchain-community)\n",
            "  Downloading marshmallow-3.26.1-py3-none-any.whl.metadata (7.3 kB)\n",
            "Collecting typing-inspect<1,>=0.4.0 (from dataclasses-json<0.7,>=0.5.7->langchain-community)\n",
            "  Downloading typing_inspect-0.9.0-py3-none-any.whl.metadata (1.5 kB)\n",
            "Requirement already satisfied: langchain-text-splitters<1.0.0,>=0.3.9 in /usr/local/lib/python3.12/dist-packages (from langchain<1.0.0,>=0.3.26->langchain-community) (0.3.9)\n",
            "Requirement already satisfied: pydantic<3.0.0,>=2.7.4 in /usr/local/lib/python3.12/dist-packages (from langchain<1.0.0,>=0.3.26->langchain-community) (2.11.7)\n",
            "Requirement already satisfied: jsonpatch<2.0,>=1.33 in /usr/local/lib/python3.12/dist-packages (from langchain-core<1.0.0,>=0.3.66->langchain-community) (1.33)\n",
            "Requirement already satisfied: typing-extensions>=4.7 in /usr/local/lib/python3.12/dist-packages (from langchain-core<1.0.0,>=0.3.66->langchain-community) (4.14.1)\n",
            "Requirement already satisfied: packaging>=23.2 in /usr/local/lib/python3.12/dist-packages (from langchain-core<1.0.0,>=0.3.66->langchain-community) (25.0)\n",
            "Requirement already satisfied: httpx<1,>=0.23.0 in /usr/local/lib/python3.12/dist-packages (from langsmith>=0.1.125->langchain-community) (0.28.1)\n",
            "Requirement already satisfied: orjson>=3.9.14 in /usr/local/lib/python3.12/dist-packages (from langsmith>=0.1.125->langchain-community) (3.11.2)\n",
            "Requirement already satisfied: requests-toolbelt>=1.0.0 in /usr/local/lib/python3.12/dist-packages (from langsmith>=0.1.125->langchain-community) (1.0.0)\n",
            "Requirement already satisfied: zstandard>=0.23.0 in /usr/local/lib/python3.12/dist-packages (from langsmith>=0.1.125->langchain-community) (0.24.0)\n",
            "Requirement already satisfied: python-dotenv>=0.21.0 in /usr/local/lib/python3.12/dist-packages (from pydantic-settings<3.0.0,>=2.4.0->langchain-community) (1.1.1)\n",
            "Requirement already satisfied: typing-inspection>=0.4.0 in /usr/local/lib/python3.12/dist-packages (from pydantic-settings<3.0.0,>=2.4.0->langchain-community) (0.4.1)\n",
            "Requirement already satisfied: charset_normalizer<4,>=2 in /usr/local/lib/python3.12/dist-packages (from requests<3,>=2->langchain-community) (3.4.3)\n",
            "Requirement already satisfied: idna<4,>=2.5 in /usr/local/lib/python3.12/dist-packages (from requests<3,>=2->langchain-community) (3.10)\n",
            "Requirement already satisfied: urllib3<3,>=1.21.1 in /usr/local/lib/python3.12/dist-packages (from requests<3,>=2->langchain-community) (2.5.0)\n",
            "Requirement already satisfied: certifi>=2017.4.17 in /usr/local/lib/python3.12/dist-packages (from requests<3,>=2->langchain-community) (2025.8.3)\n",
            "Requirement already satisfied: greenlet>=1 in /usr/local/lib/python3.12/dist-packages (from SQLAlchemy<3,>=1.4->langchain-community) (3.2.4)\n",
            "Requirement already satisfied: anyio in /usr/local/lib/python3.12/dist-packages (from httpx<1,>=0.23.0->langsmith>=0.1.125->langchain-community) (4.10.0)\n",
            "Requirement already satisfied: httpcore==1.* in /usr/local/lib/python3.12/dist-packages (from httpx<1,>=0.23.0->langsmith>=0.1.125->langchain-community) (1.0.9)\n",
            "Requirement already satisfied: h11>=0.16 in /usr/local/lib/python3.12/dist-packages (from httpcore==1.*->httpx<1,>=0.23.0->langsmith>=0.1.125->langchain-community) (0.16.0)\n",
            "Requirement already satisfied: jsonpointer>=1.9 in /usr/local/lib/python3.12/dist-packages (from jsonpatch<2.0,>=1.33->langchain-core<1.0.0,>=0.3.66->langchain-community) (3.0.0)\n",
            "Requirement already satisfied: annotated-types>=0.6.0 in /usr/local/lib/python3.12/dist-packages (from pydantic<3.0.0,>=2.7.4->langchain<1.0.0,>=0.3.26->langchain-community) (0.7.0)\n",
            "Requirement already satisfied: pydantic-core==2.33.2 in /usr/local/lib/python3.12/dist-packages (from pydantic<3.0.0,>=2.7.4->langchain<1.0.0,>=0.3.26->langchain-community) (2.33.2)\n",
            "Collecting mypy-extensions>=0.3.0 (from typing-inspect<1,>=0.4.0->dataclasses-json<0.7,>=0.5.7->langchain-community)\n",
            "  Downloading mypy_extensions-1.1.0-py3-none-any.whl.metadata (1.1 kB)\n",
            "Requirement already satisfied: sniffio>=1.1 in /usr/local/lib/python3.12/dist-packages (from anyio->httpx<1,>=0.23.0->langsmith>=0.1.125->langchain-community) (1.3.1)\n",
            "Downloading langchain_community-0.3.27-py3-none-any.whl (2.5 MB)\n",
            "\u001b[2K   \u001b[90m━━━━━━━━━━━━━━━━━━━━━━━━━━━━━━━━━━━━━━━━\u001b[0m \u001b[32m2.5/2.5 MB\u001b[0m \u001b[31m37.3 MB/s\u001b[0m eta \u001b[36m0:00:00\u001b[0m\n",
            "\u001b[?25hDownloading dataclasses_json-0.6.7-py3-none-any.whl (28 kB)\n",
            "Downloading marshmallow-3.26.1-py3-none-any.whl (50 kB)\n",
            "\u001b[2K   \u001b[90m━━━━━━━━━━━━━━━━━━━━━━━━━━━━━━━━━━━━━━━━\u001b[0m \u001b[32m50.9/50.9 kB\u001b[0m \u001b[31m3.8 MB/s\u001b[0m eta \u001b[36m0:00:00\u001b[0m\n",
            "\u001b[?25hDownloading typing_inspect-0.9.0-py3-none-any.whl (8.8 kB)\n",
            "Downloading mypy_extensions-1.1.0-py3-none-any.whl (5.0 kB)\n",
            "Installing collected packages: mypy-extensions, marshmallow, typing-inspect, dataclasses-json, langchain-community\n",
            "Successfully installed dataclasses-json-0.6.7 langchain-community-0.3.27 marshmallow-3.26.1 mypy-extensions-1.1.0 typing-inspect-0.9.0\n",
            "Collecting langchain-openai\n",
            "  Downloading langchain_openai-0.3.31-py3-none-any.whl.metadata (2.4 kB)\n",
            "Requirement already satisfied: langchain-core<1.0.0,>=0.3.74 in /usr/local/lib/python3.12/dist-packages (from langchain-openai) (0.3.74)\n",
            "Requirement already satisfied: openai<2.0.0,>=1.99.9 in /usr/local/lib/python3.12/dist-packages (from langchain-openai) (1.100.0)\n",
            "Requirement already satisfied: tiktoken<1,>=0.7 in /usr/local/lib/python3.12/dist-packages (from langchain-openai) (0.11.0)\n",
            "Requirement already satisfied: langsmith>=0.3.45 in /usr/local/lib/python3.12/dist-packages (from langchain-core<1.0.0,>=0.3.74->langchain-openai) (0.4.14)\n",
            "Requirement already satisfied: tenacity!=8.4.0,<10.0.0,>=8.1.0 in /usr/local/lib/python3.12/dist-packages (from langchain-core<1.0.0,>=0.3.74->langchain-openai) (8.5.0)\n",
            "Requirement already satisfied: jsonpatch<2.0,>=1.33 in /usr/local/lib/python3.12/dist-packages (from langchain-core<1.0.0,>=0.3.74->langchain-openai) (1.33)\n",
            "Requirement already satisfied: PyYAML>=5.3 in /usr/local/lib/python3.12/dist-packages (from langchain-core<1.0.0,>=0.3.74->langchain-openai) (6.0.2)\n",
            "Requirement already satisfied: typing-extensions>=4.7 in /usr/local/lib/python3.12/dist-packages (from langchain-core<1.0.0,>=0.3.74->langchain-openai) (4.14.1)\n",
            "Requirement already satisfied: packaging>=23.2 in /usr/local/lib/python3.12/dist-packages (from langchain-core<1.0.0,>=0.3.74->langchain-openai) (25.0)\n",
            "Requirement already satisfied: pydantic>=2.7.4 in /usr/local/lib/python3.12/dist-packages (from langchain-core<1.0.0,>=0.3.74->langchain-openai) (2.11.7)\n",
            "Requirement already satisfied: anyio<5,>=3.5.0 in /usr/local/lib/python3.12/dist-packages (from openai<2.0.0,>=1.99.9->langchain-openai) (4.10.0)\n",
            "Requirement already satisfied: distro<2,>=1.7.0 in /usr/local/lib/python3.12/dist-packages (from openai<2.0.0,>=1.99.9->langchain-openai) (1.9.0)\n",
            "Requirement already satisfied: httpx<1,>=0.23.0 in /usr/local/lib/python3.12/dist-packages (from openai<2.0.0,>=1.99.9->langchain-openai) (0.28.1)\n",
            "Requirement already satisfied: jiter<1,>=0.4.0 in /usr/local/lib/python3.12/dist-packages (from openai<2.0.0,>=1.99.9->langchain-openai) (0.10.0)\n",
            "Requirement already satisfied: sniffio in /usr/local/lib/python3.12/dist-packages (from openai<2.0.0,>=1.99.9->langchain-openai) (1.3.1)\n",
            "Requirement already satisfied: tqdm>4 in /usr/local/lib/python3.12/dist-packages (from openai<2.0.0,>=1.99.9->langchain-openai) (4.67.1)\n",
            "Requirement already satisfied: regex>=2022.1.18 in /usr/local/lib/python3.12/dist-packages (from tiktoken<1,>=0.7->langchain-openai) (2024.11.6)\n",
            "Requirement already satisfied: requests>=2.26.0 in /usr/local/lib/python3.12/dist-packages (from tiktoken<1,>=0.7->langchain-openai) (2.32.4)\n",
            "Requirement already satisfied: idna>=2.8 in /usr/local/lib/python3.12/dist-packages (from anyio<5,>=3.5.0->openai<2.0.0,>=1.99.9->langchain-openai) (3.10)\n",
            "Requirement already satisfied: certifi in /usr/local/lib/python3.12/dist-packages (from httpx<1,>=0.23.0->openai<2.0.0,>=1.99.9->langchain-openai) (2025.8.3)\n",
            "Requirement already satisfied: httpcore==1.* in /usr/local/lib/python3.12/dist-packages (from httpx<1,>=0.23.0->openai<2.0.0,>=1.99.9->langchain-openai) (1.0.9)\n",
            "Requirement already satisfied: h11>=0.16 in /usr/local/lib/python3.12/dist-packages (from httpcore==1.*->httpx<1,>=0.23.0->openai<2.0.0,>=1.99.9->langchain-openai) (0.16.0)\n",
            "Requirement already satisfied: jsonpointer>=1.9 in /usr/local/lib/python3.12/dist-packages (from jsonpatch<2.0,>=1.33->langchain-core<1.0.0,>=0.3.74->langchain-openai) (3.0.0)\n",
            "Requirement already satisfied: orjson>=3.9.14 in /usr/local/lib/python3.12/dist-packages (from langsmith>=0.3.45->langchain-core<1.0.0,>=0.3.74->langchain-openai) (3.11.2)\n",
            "Requirement already satisfied: requests-toolbelt>=1.0.0 in /usr/local/lib/python3.12/dist-packages (from langsmith>=0.3.45->langchain-core<1.0.0,>=0.3.74->langchain-openai) (1.0.0)\n",
            "Requirement already satisfied: zstandard>=0.23.0 in /usr/local/lib/python3.12/dist-packages (from langsmith>=0.3.45->langchain-core<1.0.0,>=0.3.74->langchain-openai) (0.24.0)\n",
            "Requirement already satisfied: annotated-types>=0.6.0 in /usr/local/lib/python3.12/dist-packages (from pydantic>=2.7.4->langchain-core<1.0.0,>=0.3.74->langchain-openai) (0.7.0)\n",
            "Requirement already satisfied: pydantic-core==2.33.2 in /usr/local/lib/python3.12/dist-packages (from pydantic>=2.7.4->langchain-core<1.0.0,>=0.3.74->langchain-openai) (2.33.2)\n",
            "Requirement already satisfied: typing-inspection>=0.4.0 in /usr/local/lib/python3.12/dist-packages (from pydantic>=2.7.4->langchain-core<1.0.0,>=0.3.74->langchain-openai) (0.4.1)\n",
            "Requirement already satisfied: charset_normalizer<4,>=2 in /usr/local/lib/python3.12/dist-packages (from requests>=2.26.0->tiktoken<1,>=0.7->langchain-openai) (3.4.3)\n",
            "Requirement already satisfied: urllib3<3,>=1.21.1 in /usr/local/lib/python3.12/dist-packages (from requests>=2.26.0->tiktoken<1,>=0.7->langchain-openai) (2.5.0)\n",
            "Downloading langchain_openai-0.3.31-py3-none-any.whl (74 kB)\n",
            "\u001b[2K   \u001b[90m━━━━━━━━━━━━━━━━━━━━━━━━━━━━━━━━━━━━━━━━\u001b[0m \u001b[32m74.5/74.5 kB\u001b[0m \u001b[31m3.3 MB/s\u001b[0m eta \u001b[36m0:00:00\u001b[0m\n",
            "\u001b[?25hInstalling collected packages: langchain-openai\n",
            "Successfully installed langchain-openai-0.3.31\n",
            "\u001b[31mERROR: Could not find a version that satisfies the requirement langchin-text-splitter (from versions: none)\u001b[0m\u001b[31m\n",
            "\u001b[0m\u001b[31mERROR: No matching distribution found for langchin-text-splitter\u001b[0m\u001b[31m\n",
            "\u001b[0m"
          ]
        }
      ],
      "source": [
        "!pip install langchain\n",
        "!pip install langchain-community\n",
        "!pip install langchain-openai\n",
        "!pip install langchin-text-splitter"
      ]
    },
    {
      "cell_type": "code",
      "source": [
        "from getpass import getpass\n",
        "OPENAI_API_KEY=getpass(\"Enter your key:-\")"
      ],
      "metadata": {
        "colab": {
          "base_uri": "https://localhost:8080/"
        },
        "id": "kyNOvUxcft76",
        "outputId": "12295a5e-bbba-478d-8546-52e60cd8c648"
      },
      "execution_count": 3,
      "outputs": [
        {
          "name": "stdout",
          "output_type": "stream",
          "text": [
            "Enter your key:-··········\n"
          ]
        }
      ]
    },
    {
      "cell_type": "code",
      "source": [
        "import os\n",
        "os.environ[\"OPENAI_API_KEY\"]=OPENAI_API_KEY"
      ],
      "metadata": {
        "id": "Q5pDLfnoi_ff"
      },
      "execution_count": 4,
      "outputs": []
    },
    {
      "cell_type": "code",
      "source": [
        "from langchain_openai import ChatOpenAI\n",
        "llm=ChatOpenAI(model=\"gpt-4o-mini\",temperature=0)"
      ],
      "metadata": {
        "id": "A1OykbI5jIS5"
      },
      "execution_count": 5,
      "outputs": []
    },
    {
      "cell_type": "markdown",
      "source": [
        "#Solution\n",
        "\n",
        "                ┌───────────────────────┐\n",
        "                │ Student Input (Text)  │\n",
        "                └───────────┬───────────┘\n",
        "                            │\n",
        "                            ▼\n",
        "              ┌──────────────────────────┐\n",
        "              │ Sequential Chain          │\n",
        "              │ (Clean → Extract → JSON) │\n",
        "              └───────────┬──────────────┘\n",
        "                          │\n",
        "                          ▼\n",
        "              ┌───────────────────────────┐\n",
        "              │ Parallel Chain             │\n",
        "              │ • Summary                  │\n",
        "              │ • Strengths/Weaknesses     │\n",
        "              │ • Possible Career Domains  │\n",
        "              └──────────┬────────────────┘\n",
        "                         │\n",
        "                         ▼\n",
        "              ┌──────────────────────────┐\n",
        "              │ Branch Chain              │\n",
        "              │ IF Science ≥ 70% → Sci    │\n",
        "              │ ELSE IF Commerce ≥ 65%    │\n",
        "              │ ELSE Arts / Vocational    │\n",
        "              └──────────┬───────────────┘\n",
        "                         │\n",
        "                         ▼\n",
        "              ┌──────────────────────────┐\n",
        "              │ Routing Chain             │\n",
        "              │ Science → Sci Advisor     │\n",
        "              │ Commerce → Comm Advisor   │\n",
        "              │ Arts → Arts Advisor       │\n",
        "              │ Vocational → Voc Advisor  │\n",
        "              └──────────┬───────────────┘\n",
        "                         │\n",
        "                         ▼\n",
        "              ┌──────────────────────────┐\n",
        "              │ Final Recommendation      │\n",
        "              │ Report (JSON / PDF)       │\n",
        "              └──────────────────────────┘\n"
      ],
      "metadata": {
        "id": "3cwHihUYqtPm"
      }
    },
    {
      "cell_type": "code",
      "source": [
        "students=[\"\"\"Hey my self Rohan Gupta from class X. My fav subjects are computer and maths. I spend much time in coding small games in python.\n",
        "I got 95 in computer science, 93 in maths, 78 in english, 70 in history, and 72 in hindi.\n",
        "My hobbies include coding, playing chess, and reading tech blogs.\n",
        "Qualities are logical thinking, problem-solving and teamwork. Weakness is poor handwriting and sometimes I get nervous in public speaking.\n",
        "I have certification in Python basics from Coursera.\n",
        "\"\"\",\"\"\"heloo my name is Priya Nair , studing in 10th standard. I love drawing and painting, and Iam good in arts subjects but weak in mathematics and physics.\n",
        "My hobbies are dancing, sketching, and listening music. I got 65 in maths, 70 in physics, 90 in english, 95 in history, and 92 in geography.\n",
        "I am very creative and always think out of the box, also I won 2 certificates in school art competition. Sometimes I get distracted and procrastinate my homework.\n",
        "\"\"\",\"\"\"My name is Aarav Sharma, Iam studying in class 10th. I like maths and science but week in english grammar, sometimes do spelling mistake.\n",
        "My hobbies are playing cricket and solving puzzle games. I scored 92 in maths, 88 in science, 75 in english, 80 in social science, and 85 in hindi.\n",
        "I am hardworking, punctual, and always complete assignments on time. I also got a certificate in science olympiad (silver medal).\n",
        "\"\"\"]"
      ],
      "metadata": {
        "id": "BW7r7boDrV1H"
      },
      "execution_count": 6,
      "outputs": []
    },
    {
      "cell_type": "markdown",
      "source": [
        "#STep 1 :- sequential chain to clean , extract and get text into json format."
      ],
      "metadata": {
        "id": "e-onPlmyrT7n"
      }
    },
    {
      "cell_type": "code",
      "source": [
        "from langchain_core.prompts import ChatPromptTemplate\n",
        "prompt_1st=ChatPromptTemplate.from_template(\"\"\"You are given raw student data.\n",
        "Your task is to carefully process this input and make it **clear, readable, and well-structured**.\n",
        "\n",
        "- Correct any grammatical mistakes.\n",
        "- Fix spelling errors.\n",
        "- Remove unnecessary words or clutter.\n",
        "- Present the cleaned text in a professional and human-readable format.\n",
        "\n",
        "Do not add extra information, only clean and polish the given data.\n",
        "student data :- ```{student_raw_data}```\n",
        "\"\"\")"
      ],
      "metadata": {
        "id": "qa29OSgRql9p"
      },
      "execution_count": 7,
      "outputs": []
    },
    {
      "cell_type": "code",
      "source": [
        "prompt_2nd=ChatPromptTemplate.from_template(\"\"\"\n",
        "  You are given student data (already cleaned).\n",
        "Your task is to extract **all relevant structured information** and present it in plain text with suitable tags.\n",
        "\n",
        "The extracted details must include:\n",
        "- Name of the student\n",
        "- Class/Grade\n",
        "- List of subjects\n",
        "- Dictionary of subjects with marks (subject: marks)\n",
        "- List of hobbies\n",
        "- List of weaknesses (if present)\n",
        "- List of qualities/strengths\n",
        "- List of certifications\n",
        "\n",
        "Output all data in **plain text format** with clear tags.\n",
        "Do not skip any relevant information present in the input.\n",
        "\n",
        "student data:- ```{student_clean_data}```\n",
        "\"\"\")"
      ],
      "metadata": {
        "id": "5bIv5sV2pT5i"
      },
      "execution_count": 8,
      "outputs": []
    },
    {
      "cell_type": "code",
      "source": [
        "prompt_3rd = ChatPromptTemplate.from_template(\"\"\"\n",
        "You are given student data with clear tags.\n",
        "Your task is to analyze the data and convert it into a **valid JSON format**.\n",
        "\n",
        "The JSON must follow this structure:\n",
        "{{\n",
        "  \"name\": \"<string>\",\n",
        "  \"class\": \"<string>\",\n",
        "  \"subjects\": [\"<list of subjects>\"],\n",
        "  \"marks\": {{\"subject1\": <int>, \"subject2\": <int>, ...}},\n",
        "  \"hobbies\": [\"<list of hobbies>\"],\n",
        "  \"weaknesses\": [\"<list of weaknesses>\"],\n",
        "  \"qualities\": [\"<list of qualities>\"],\n",
        "  \"certifications\": [\"<list of certifications>\"]\n",
        "}}\n",
        "\n",
        "Ensure the JSON is **properly formatted and parsable**.\n",
        "Do not include any extra explanation outside the JSON.\n",
        "\n",
        "student data :- ```{student_tagged_data}```\n",
        "\"\"\")\n"
      ],
      "metadata": {
        "id": "5OCm55fWpkon"
      },
      "execution_count": 9,
      "outputs": []
    },
    {
      "cell_type": "code",
      "source": [
        "from langchain_core.output_parsers import StrOutputParser,JsonOutputParser\n",
        "chain1=( prompt_1st | llm | StrOutputParser())\n",
        "chain2=( prompt_2nd | llm | StrOutputParser())\n",
        "chain3=( prompt_3rd | llm | JsonOutputParser())"
      ],
      "metadata": {
        "id": "cqB0nRU4p2se"
      },
      "execution_count": 10,
      "outputs": []
    },
    {
      "cell_type": "code",
      "source": [
        "from langchain_core.runnables import RunnablePassthrough\n",
        "main_1st_chain=(\n",
        "    RunnablePassthrough.assign(student_clean_data=chain1)\n",
        "    |\n",
        "    RunnablePassthrough.assign(student_tagged_data=chain2)\n",
        "    |\n",
        "    RunnablePassthrough.assign(json_data=chain3)\n",
        ")"
      ],
      "metadata": {
        "id": "9pGLDd7YqNoh"
      },
      "execution_count": 11,
      "outputs": []
    },
    {
      "cell_type": "code",
      "source": [
        "students_data=[{\"student_raw_data\":data}for data in students]"
      ],
      "metadata": {
        "id": "7P2y56fbqqjP"
      },
      "execution_count": 12,
      "outputs": []
    },
    {
      "cell_type": "code",
      "source": [
        "responses=main_1st_chain.map().invoke(students_data)"
      ],
      "metadata": {
        "id": "NjKbgjsrrwsB"
      },
      "execution_count": 13,
      "outputs": []
    },
    {
      "cell_type": "code",
      "source": [
        "responses[1]"
      ],
      "metadata": {
        "colab": {
          "base_uri": "https://localhost:8080/"
        },
        "id": "c3t8Yifcr43q",
        "outputId": "b9b5784c-d073-4271-a6f4-50e51daab48e"
      },
      "execution_count": 14,
      "outputs": [
        {
          "output_type": "execute_result",
          "data": {
            "text/plain": [
              "{'student_raw_data': 'heloo my name is Priya Nair , studing in 10th standard. I love drawing and painting, and Iam good in arts subjects but weak in mathematics and physics. \\nMy hobbies are dancing, sketching, and listening music. I got 65 in maths, 70 in physics, 90 in english, 95 in history, and 92 in geography.  \\nI am very creative and always think out of the box, also I won 2 certificates in school art competition. Sometimes I get distracted and procrastinate my homework. \\n',\n",
              " 'student_clean_data': '**Student Profile: Priya Nair**\\n\\n- **Name:** Priya Nair  \\n- **Grade:** 10th Standard  \\n\\n**Interests and Skills:**  \\n- **Strengths:** Good in arts subjects (drawing and painting)  \\n- **Weaknesses:** Mathematics and Physics  \\n\\n**Hobbies:**  \\n- Dancing  \\n- Sketching  \\n- Listening to music  \\n\\n**Academic Performance:**  \\n- Mathematics: 65  \\n- Physics: 70  \\n- English: 90  \\n- History: 95  \\n- Geography: 92  \\n\\n**Additional Information:**  \\n- Creative thinker, often thinks outside the box  \\n- Awarded 2 certificates in school art competitions  \\n- Occasionally gets distracted and procrastinates on homework  ',\n",
              " 'student_tagged_data': '**Student Profile: Priya Nair**\\n\\n- **Name:** Priya Nair  \\n- **Class/Grade:** 10th Standard  \\n\\n**Subjects:**  \\n- Mathematics  \\n- Physics  \\n- English  \\n- History  \\n- Geography  \\n\\n**Marks in Subjects:**  \\n- Mathematics: 65  \\n- Physics: 70  \\n- English: 90  \\n- History: 95  \\n- Geography: 92  \\n\\n**Hobbies:**  \\n- Dancing  \\n- Sketching  \\n- Listening to music  \\n\\n**Weaknesses:**  \\n- Mathematics  \\n- Physics  \\n\\n**Qualities/Strengths:**  \\n- Good in arts subjects (drawing and painting)  \\n- Creative thinker, often thinks outside the box  \\n\\n**Certifications:**  \\n- Awarded 2 certificates in school art competitions  ',\n",
              " 'json_data': {'name': 'Priya Nair',\n",
              "  'class': '10th Standard',\n",
              "  'subjects': ['Mathematics', 'Physics', 'English', 'History', 'Geography'],\n",
              "  'marks': {'Mathematics': 65,\n",
              "   'Physics': 70,\n",
              "   'English': 90,\n",
              "   'History': 95,\n",
              "   'Geography': 92},\n",
              "  'hobbies': ['Dancing', 'Sketching', 'Listening to music'],\n",
              "  'weaknesses': ['Mathematics', 'Physics'],\n",
              "  'qualities': ['Good in arts subjects (drawing and painting)',\n",
              "   'Creative thinker, often thinks outside the box'],\n",
              "  'certifications': ['Awarded 2 certificates in school art competitions']}}"
            ]
          },
          "metadata": {},
          "execution_count": 14
        }
      ]
    },
    {
      "cell_type": "code",
      "source": [
        "print(responses[1]['student_clean_data'])"
      ],
      "metadata": {
        "colab": {
          "base_uri": "https://localhost:8080/"
        },
        "id": "IW6xIUVIIleU",
        "outputId": "9be0a0bd-ae6f-4536-a01b-0704bd2588f1"
      },
      "execution_count": 15,
      "outputs": [
        {
          "output_type": "stream",
          "name": "stdout",
          "text": [
            "**Student Profile: Priya Nair**\n",
            "\n",
            "- **Name:** Priya Nair  \n",
            "- **Grade:** 10th Standard  \n",
            "\n",
            "**Interests and Skills:**  \n",
            "- **Strengths:** Good in arts subjects (drawing and painting)  \n",
            "- **Weaknesses:** Mathematics and Physics  \n",
            "\n",
            "**Hobbies:**  \n",
            "- Dancing  \n",
            "- Sketching  \n",
            "- Listening to music  \n",
            "\n",
            "**Academic Performance:**  \n",
            "- Mathematics: 65  \n",
            "- Physics: 70  \n",
            "- English: 90  \n",
            "- History: 95  \n",
            "- Geography: 92  \n",
            "\n",
            "**Additional Information:**  \n",
            "- Creative thinker, often thinks outside the box  \n",
            "- Awarded 2 certificates in school art competitions  \n",
            "- Occasionally gets distracted and procrastinates on homework  \n"
          ]
        }
      ]
    },
    {
      "cell_type": "code",
      "source": [
        "print(responses[1]['json_data'])"
      ],
      "metadata": {
        "colab": {
          "base_uri": "https://localhost:8080/"
        },
        "id": "alTKCbIeIzfh",
        "outputId": "9e358d84-8cdc-4416-8d47-cd92054530a6"
      },
      "execution_count": 16,
      "outputs": [
        {
          "output_type": "stream",
          "name": "stdout",
          "text": [
            "{'name': 'Priya Nair', 'class': '10th Standard', 'subjects': ['Mathematics', 'Physics', 'English', 'History', 'Geography'], 'marks': {'Mathematics': 65, 'Physics': 70, 'English': 90, 'History': 95, 'Geography': 92}, 'hobbies': ['Dancing', 'Sketching', 'Listening to music'], 'weaknesses': ['Mathematics', 'Physics'], 'qualities': ['Good in arts subjects (drawing and painting)', 'Creative thinker, often thinks outside the box'], 'certifications': ['Awarded 2 certificates in school art competitions']}\n"
          ]
        }
      ]
    },
    {
      "cell_type": "code",
      "source": [
        "print(responses[2]['json_data'])"
      ],
      "metadata": {
        "colab": {
          "base_uri": "https://localhost:8080/"
        },
        "id": "03NTziheJCx_",
        "outputId": "c17a3382-cfa1-4034-fa2a-ee154155812d"
      },
      "execution_count": 17,
      "outputs": [
        {
          "output_type": "stream",
          "name": "stdout",
          "text": [
            "{'name': 'Aarav Sharma', 'class': '10th', 'subjects': ['Mathematics', 'Science', 'English', 'Social Science', 'Hindi'], 'marks': {'Mathematics': 92, 'Science': 88, 'English': 75, 'Social Science': 80, 'Hindi': 85}, 'hobbies': ['Playing cricket', 'Solving puzzle games'], 'weaknesses': ['English grammar (occasionally makes spelling mistakes)'], 'qualities': ['Hardworking', 'Punctual', 'Completes assignments on time'], 'certifications': ['Certificate in Science Olympiad (Silver Medal)']}\n"
          ]
        }
      ]
    },
    {
      "cell_type": "markdown",
      "source": [
        "#2) Parallel Chain             │\n",
        "          │ • Summary                  │\n",
        "          │ • Strengths/Weaknesses     │\n",
        "          │ • Possible Career Domains"
      ],
      "metadata": {
        "id": "D0rfFPv9JcL-"
      }
    },
    {
      "cell_type": "code",
      "source": [
        "from langchain_core.prompts import ChatPromptTemplate\n",
        "\n",
        "prompt_summary = ChatPromptTemplate.from_template(\"\"\"\n",
        "You are given a student's profile in JSON format.\n",
        "\n",
        "Your task is to generate a **concise and clear summary** of the student.\n",
        "The summary should highlight:\n",
        "- Name\n",
        "- Class\n",
        "- Academic performance (subjects & marks in short)\n",
        "- Hobbies\n",
        "- Qualities\n",
        "- Certifications (if any)\n",
        "\n",
        "Input JSON:\n",
        "```{json_data}```\n",
        "\"\"\")\n",
        "\n",
        "prompt_analysis = ChatPromptTemplate.from_template(\"\"\"\n",
        "You are given a student's profile in JSON format.\n",
        "\n",
        "Your task is to carefully analyze the profile and provide:\n",
        "- A **list of key strengths** of the student (based on marks, qualities, hobbies, certifications).\n",
        "- A **list of weaknesses** (based on marks, weaknesses field, or missing areas).\n",
        "\n",
        "Write the output in structured markdown format.\n",
        "\n",
        "Input JSON:\n",
        "```{json_data}```\n",
        "\"\"\")\n",
        "\n",
        "prompt_career = ChatPromptTemplate.from_template(\"\"\"\n",
        "You are given a student's profile in JSON format.\n",
        "\n",
        "The student is currently in **10th class**.\n",
        "Based on their marks, qualities, hobbies, certifications, and weaknesses:\n",
        "- Suggest **Top 5 possible career domains** for the student.\n",
        "- List them in **descending order of suitability**.\n",
        "- Each domain must have a **1-line justification**.\n",
        "\n",
        "Output in the following format:\n",
        "1. Domain 1 - justification\n",
        "2. Domain 2 - justification\n",
        "3. Domain 3 - justification\n",
        "4. Domain 4 - justification\n",
        "5. Domain 5 - justification\n",
        "\n",
        "Input JSON:\n",
        "```{json_data}```\n",
        "\"\"\")\n"
      ],
      "metadata": {
        "id": "eYmZTt-2JLvq"
      },
      "execution_count": 19,
      "outputs": []
    },
    {
      "cell_type": "code",
      "source": [
        "chain4=prompt_summary | llm | StrOutputParser()\n",
        "chain5=prompt_analysis | llm | StrOutputParser()\n",
        "chain6=prompt_career | llm | StrOutputParser()"
      ],
      "metadata": {
        "id": "It62b5hCK0SA"
      },
      "execution_count": 20,
      "outputs": []
    },
    {
      "cell_type": "code",
      "source": [
        "from langchain_core.runnables import RunnableParallel\n",
        "main_2nd_chain=(\n",
        "    RunnableParallel(\n",
        "    Summary=chain4,\n",
        "    Critical_Analysis=chain5,\n",
        "    Possible_Career=chain6\n",
        "    )\n",
        ")"
      ],
      "metadata": {
        "id": "ipGRhmWnLUNS"
      },
      "execution_count": 43,
      "outputs": []
    },
    {
      "cell_type": "code",
      "source": [
        "responses2=main_2nd_chain.map().invoke(responses)"
      ],
      "metadata": {
        "id": "6Pfo6NLfMEUF"
      },
      "execution_count": 44,
      "outputs": []
    },
    {
      "cell_type": "code",
      "source": [
        "responses2[0]"
      ],
      "metadata": {
        "colab": {
          "base_uri": "https://localhost:8080/"
        },
        "id": "x_oWte29MXaX",
        "outputId": "8df7512d-0641-406f-b3cd-212b35d09803"
      },
      "execution_count": 45,
      "outputs": [
        {
          "output_type": "execute_result",
          "data": {
            "text/plain": [
              "{'Summary': '**Student Summary:**\\n\\n- **Name:** Rohan Gupta\\n- **Class:** X\\n- **Academic Performance:** \\n  - Computer Science: 95\\n  - Mathematics: 93\\n  - English: 78\\n  - History: 70\\n  - Hindi: 72\\n- **Hobbies:** Coding, Playing chess, Reading tech blogs\\n- **Qualities:** Logical thinking, Problem-solving, Teamwork\\n- **Certifications:** Python Basics (Coursera)',\n",
              " 'Critical_Analysis': '```markdown\\n# Student Profile Analysis: Rohan Gupta\\n\\n## Key Strengths\\n- **Academic Performance:**\\n  - High marks in key subjects:\\n    - Computer Science: 95\\n    - Mathematics: 93\\n  - Overall strong performance in academics, with a good grasp of technical subjects.\\n\\n- **Qualities:**\\n  - Logical thinking\\n  - Problem-solving skills\\n  - Teamwork abilities\\n\\n- **Hobbies:**\\n  - Coding, which aligns with his strong performance in Computer Science.\\n  - Playing chess, indicating strategic thinking and planning skills.\\n  - Reading tech blogs, showing a keen interest in technology and continuous learning.\\n\\n- **Certifications:**\\n  - Completed \"Python Basics\" course on Coursera, demonstrating initiative in learning programming.\\n\\n## Weaknesses\\n- **Academic Areas:**\\n  - Lower marks in English (78), History (70), and Hindi (72) compared to other subjects, indicating potential areas for improvement.\\n\\n- **Personal Development:**\\n  - Poor handwriting, which may affect written communication.\\n  - Nervousness in public speaking, which could hinder participation in presentations and discussions.\\n```',\n",
              " 'Possible_Career': \"1. Software Development - Rohan's strong marks in Computer Science and Mathematics, along with his coding hobby, make him well-suited for a career in software development.\\n2. Data Science - His logical thinking and problem-solving skills, combined with a solid foundation in mathematics, position him well for a future in data science.\\n3. Cybersecurity - Rohan's interest in technology and coding, along with his analytical skills, suggest he could excel in the growing field of cybersecurity.\\n4. Game Development - His coding skills and passion for technology, paired with teamwork qualities, make game development a fitting career choice for him.\\n5. IT Project Management - Rohan's teamwork and problem-solving abilities, along with his technical background, indicate he could thrive in managing IT projects effectively.\"}"
            ]
          },
          "metadata": {},
          "execution_count": 45
        }
      ]
    },
    {
      "cell_type": "markdown",
      "source": [
        "#3) Branch Chain   \n",
        "for predict the stream takes in 11th -12th ."
      ],
      "metadata": {
        "id": "z1krBLLaYI6I"
      }
    },
    {
      "cell_type": "code",
      "source": [
        "from langchain_core.prompts import ChatPromptTemplate\n",
        "stream_prompt=ChatPromptTemplate.from_template(\"\"\"You are an expert career counselor.\n",
        "Analyze the given information about the student:\n",
        "- Career Recommendation List: {Possible_Career}\n",
        "- Student Summary: {Summary}\n",
        "- Strengths and Weaknesses: {Critical_Analysis}\n",
        "\n",
        "\n",
        "Based on this analysis, decide which stream the student should take after 10th class.\n",
        "\n",
        "Important Rules:\n",
        "1. Consider strengths and weaknesses carefully.\n",
        "2. Choose the stream that will maximize the student’s success.\n",
        "3. Your answer must be ONLY one word, selected from this exact list:\n",
        "Arts, Commerce, ScienceMaths, Bio, BioMaths, Vocational courses\n",
        "\n",
        "Answer:\n",
        "\"\"\")"
      ],
      "metadata": {
        "id": "iaQpZK1LXeWm"
      },
      "execution_count": 55,
      "outputs": []
    },
    {
      "cell_type": "code",
      "source": [
        "art_prompt=ChatPromptTemplate.from_template(\"\"\"You are an expert in Arts stream career counseling.\n",
        "Guide a student who has just completed 10th class.\n",
        "Your task:\n",
        "1. Recommend the top 3 future career goals for a student choosing Arts stream.\n",
        "2. For each career goal, provide a step-by-step roadmap (list-wise) starting from after 10th class until achieving that goal.\n",
        "Make sure the guidance is practical and student-friendly.\n",
        "\n",
        "- Career Recommendation List: {Possible_Career}\n",
        "- Student Summary: {Summary}\n",
        "- Strengths and Weaknesses: {Critical_Analysis}\n",
        "\n",
        "\"\"\")\n",
        "art_chain=art_prompt | llm | StrOutputParser()"
      ],
      "metadata": {
        "id": "-kp_MQEqnN74"
      },
      "execution_count": 69,
      "outputs": []
    },
    {
      "cell_type": "code",
      "source": [
        "com_prompt=ChatPromptTemplate.from_template(\"\"\"You are an expert in Commerce stream career counseling.\n",
        "Guide a student who has just completed 10th class.\n",
        "Your task:\n",
        "1. Recommend the top 3 future career goals for a student choosing Commerce stream.\n",
        "2. For each career goal, provide a step-by-step roadmap (list-wise) starting from after 10th class until achieving that goal.\n",
        "Make sure the guidance is practical and student-friendly.\n",
        "\n",
        "- Career Recommendation List: {Possible_Career}\n",
        "- Student Summary: {Summary}\n",
        "- Strengths and Weaknesses: {Critical_Analysis}\n",
        "\n",
        "\"\"\")\n",
        "\n",
        "com_chain=com_prompt | llm | StrOutputParser()"
      ],
      "metadata": {
        "id": "E7tQUYv7rdb4"
      },
      "execution_count": 70,
      "outputs": []
    },
    {
      "cell_type": "code",
      "source": [
        "sci_math_prompt=ChatPromptTemplate.from_template(\"\"\"You are an expert in Science (Mathematics) stream career counseling.\n",
        "Guide a student who has just completed 10th class.\n",
        "Your task:\n",
        "1. Recommend the top 3 future career goals for a student choosing Science with Maths.\n",
        "2. For each career goal, provide a step-by-step roadmap (list-wise) starting from after 10th class until achieving that goal.\n",
        "Make sure the guidance is practical and student-friendly.\n",
        "\n",
        "- Career Recommendation List: {Possible_Career}\n",
        "- Student Summary: {Summary}\n",
        "- Strengths and Weaknesses: {Critical_Analysis}\n",
        "\n",
        "\"\"\")\n",
        "sci_math_chain=sci_math_prompt | llm | StrOutputParser()"
      ],
      "metadata": {
        "id": "Iu9u_Hltrl-v"
      },
      "execution_count": 71,
      "outputs": []
    },
    {
      "cell_type": "code",
      "source": [
        "bio_prompt=ChatPromptTemplate.from_template(\"\"\"You are an expert in Science (Biology) stream career counseling.\n",
        "Guide a student who has just completed 10th class.\n",
        "Your task:\n",
        "1. Recommend the top 3 future career goals for a student choosing Biology stream.\n",
        "2. For each career goal, provide a step-by-step roadmap (list-wise) starting from after 10th class until achieving that goal.\n",
        "Make sure the guidance is practical and student-friendly.\n",
        "\n",
        "- Career Recommendation List: {Possible_Career}\n",
        "- Student Summary: {Summary}\n",
        "- Strengths and Weaknesses: {Critical_Analysis}\n",
        "\n",
        "\"\"\")\n",
        "bio_chain=bio_prompt | llm | StrOutputParser()"
      ],
      "metadata": {
        "id": "ye0XqV2ZruAh"
      },
      "execution_count": 72,
      "outputs": []
    },
    {
      "cell_type": "code",
      "source": [
        "bio_math_prompt=ChatPromptTemplate.from_template(\"\"\"You are an expert in Science (Biology + Mathematics) stream career counseling.\n",
        "Guide a student who has just completed 10th class.\n",
        "Your task:\n",
        "1. Recommend the top 3 future career goals for a student choosing Bio-Maths stream.\n",
        "2. For each career goal, provide a step-by-step roadmap (list-wise) starting from after 10th class until achieving that goal.\n",
        "Make sure the guidance is practical and student-friendly.\n",
        "\n",
        "- Career Recommendation List: {Possible_Career}\n",
        "- Student Summary: {Summary}\n",
        "- Strengths and Weaknesses: {Critical_Analysis}\n",
        "\n",
        "\"\"\")\n",
        "bio_math_chain=bio_math_prompt | llm | StrOutputParser()"
      ],
      "metadata": {
        "id": "7HmkCxJTsLmq"
      },
      "execution_count": 73,
      "outputs": []
    },
    {
      "cell_type": "code",
      "source": [
        "voc_prompt=ChatPromptTemplate.from_template(\"\"\"You are an expert in Vocational courses career counseling.\n",
        "Guide a student who has just completed 10th class.\n",
        "Your task:\n",
        "1. Recommend the top 3 future career goals for a student choosing Vocational courses.\n",
        "2. For each career goal, provide a step-by-step roadmap (list-wise) starting from after 10th class until achieving that goal.\n",
        "Make sure the guidance is practical and student-friendly.\n",
        "\n",
        "- Career Recommendation List: {Possible_Career}\n",
        "- Student Summary: {Summary}\n",
        "- Strengths and Weaknesses: {Critical_Analysis}\n",
        "\n",
        "\"\"\")\n",
        "voc_chain=voc_prompt | llm | StrOutputParser()"
      ],
      "metadata": {
        "id": "Mr-aolcLsVtS"
      },
      "execution_count": 74,
      "outputs": []
    },
    {
      "cell_type": "code",
      "source": [
        "branch_chain=stream_prompt | llm | StrOutputParser()"
      ],
      "metadata": {
        "id": "OPR_3t5gscxR"
      },
      "execution_count": 63,
      "outputs": []
    },
    {
      "cell_type": "code",
      "source": [
        "main_3rd_chain=RunnablePassthrough.assign(\n",
        "    stream=branch_chain\n",
        ")"
      ],
      "metadata": {
        "id": "CmpfoAyUvEI-"
      },
      "execution_count": 66,
      "outputs": []
    },
    {
      "cell_type": "code",
      "source": [
        "responses3=main_3rd_chain.map().invoke(responses2)"
      ],
      "metadata": {
        "id": "M8MAIXP1uExZ"
      },
      "execution_count": 67,
      "outputs": []
    },
    {
      "cell_type": "code",
      "source": [
        "responses3[2]"
      ],
      "metadata": {
        "colab": {
          "base_uri": "https://localhost:8080/"
        },
        "id": "7KxR_Qu2ut4W",
        "outputId": "900462a6-9ea8-46bd-b966-afc544085c7a"
      },
      "execution_count": 68,
      "outputs": [
        {
          "output_type": "execute_result",
          "data": {
            "text/plain": [
              "{'Summary': '**Student Summary:**\\n\\n- **Name:** Aarav Sharma\\n- **Class:** 10th\\n- **Academic Performance:** \\n  - Mathematics: 92\\n  - Science: 88\\n  - English: 75\\n  - Social Science: 80\\n  - Hindi: 85\\n- **Hobbies:** Playing cricket, Solving puzzle games\\n- **Qualities:** Hardworking, Punctual, Completes assignments on time\\n- **Certifications:** Certificate in Science Olympiad (Silver Medal)',\n",
              " 'Critical_Analysis': '```markdown\\n# Student Profile Analysis: Aarav Sharma\\n\\n## Key Strengths\\n- **Academic Performance:**\\n  - High marks in Mathematics (92) and Science (88), indicating strong analytical and problem-solving skills.\\n  - Good performance in Hindi (85) and Social Science (80), showcasing a well-rounded academic ability.\\n\\n- **Qualities:**\\n  - Hardworking: Demonstrates dedication to studies and tasks.\\n  - Punctual: Values time management and adheres to deadlines.\\n  - Completes assignments on time: Shows responsibility and commitment to academic work.\\n\\n- **Hobbies:**\\n  - Enjoys playing cricket, which indicates teamwork and physical fitness.\\n  - Engages in solving puzzle games, reflecting critical thinking and cognitive skills.\\n\\n- **Certifications:**\\n  - Achieved a Silver Medal in the Science Olympiad, highlighting excellence in science and competitive spirit.\\n\\n## Weaknesses\\n- **Academic Areas:**\\n  - English: Although marks are decent (75), there is a noted weakness in English grammar, specifically with occasional spelling mistakes.\\n\\n- **Missing Areas:**\\n  - No certifications or achievements mentioned in subjects other than Science, which may indicate a need for broader engagement in extracurricular activities or competitions in other subjects.\\n```\\n',\n",
              " 'Possible_Career': \"1. Engineering - Aarav's strong marks in Mathematics and Science indicate a solid foundation for pursuing a career in engineering, where analytical and problem-solving skills are essential.\\n2. Data Science - With a knack for solving puzzle games and high proficiency in Mathematics, Aarav could excel in data science, which requires strong analytical skills and a love for patterns.\\n3. Research Scientist - Aarav's interest in Science and achievement in the Science Olympiad suggest a potential for a career in research, where curiosity and a methodical approach are key.\\n4. Teaching - Given his hardworking nature and punctuality, Aarav could thrive in an educational role, inspiring others while reinforcing his own knowledge in subjects he excels in.\\n5. Information Technology - With a strong foundation in Mathematics and problem-solving skills, Aarav could explore a career in IT, where logical thinking and technical skills are highly valued.\",\n",
              " 'stream': 'ScienceMaths'}"
            ]
          },
          "metadata": {},
          "execution_count": 68
        }
      ]
    },
    {
      "cell_type": "markdown",
      "source": [
        "#4) Routing Chain"
      ],
      "metadata": {
        "id": "A3wIR7H-vfEN"
      }
    },
    {
      "cell_type": "code",
      "source": [
        "def default_answer(query):\n",
        "  return \"Sorry instructions are not the defined intents\""
      ],
      "metadata": {
        "id": "p3sgRdyEwTpx"
      },
      "execution_count": 77,
      "outputs": []
    },
    {
      "cell_type": "code",
      "source": [
        "from langchain_core.runnables import RunnableBranch,RunnableLambda\n",
        "\n",
        "main_4th_chain=RunnableBranch(\n",
        "    (lambda x: x['stream'].lower()=='arts',RunnablePassthrough.assign(CareerGuidance=art_chain)),\n",
        "    (lambda x:'vocational' in x['stream'].lower(),RunnablePassthrough.assign(CareerGuidance=voc_chain)),\n",
        "    (lambda x: x['stream'].lower()=='biomaths',RunnablePassthrough.assign(CareerGuidance=bio_math_chain)),\n",
        "    (lambda x: x['stream'].lower()=='bio',RunnablePassthrough.assign(CareerGuidance=bio_chain)),\n",
        "    (lambda x:x['stream'].lower()=='sciencemaths',RunnablePassthrough.assign(CareerGuidance=sci_math_chain)),\n",
        "    (lambda x:x['stream'].lower()=='commerce',RunnablePassthrough.assign(CareerGuidance=com_chain)),\n",
        "  RunnablePassthrough.assign(CareerGuidance=RunnableLambda(default_answer))\n",
        "    )\n"
      ],
      "metadata": {
        "id": "1dh7DGlQu69h"
      },
      "execution_count": 88,
      "outputs": []
    },
    {
      "cell_type": "code",
      "source": [
        "responses4=main_4th_chain.map().invoke(responses3)"
      ],
      "metadata": {
        "id": "4ofl9I-XFYK-"
      },
      "execution_count": 89,
      "outputs": []
    },
    {
      "cell_type": "code",
      "source": [
        "print(responses4[2]['CareerGuidance'])"
      ],
      "metadata": {
        "colab": {
          "base_uri": "https://localhost:8080/"
        },
        "id": "oOGKkAo7FjWy",
        "outputId": "67ba1522-c2f1-413a-9934-ef4ff221e251"
      },
      "execution_count": 90,
      "outputs": [
        {
          "output_type": "stream",
          "name": "stdout",
          "text": [
            "Based on Aarav's strong academic performance in Mathematics and Science, as well as his interests and qualities, here are the top three career goals he can consider, along with a practical roadmap for each:\n",
            "\n",
            "### 1. Engineering\n",
            "\n",
            "**Roadmap to Becoming an Engineer:**\n",
            "\n",
            "1. **Complete 10th Grade:**\n",
            "   - Focus on maintaining or improving grades in Mathematics and Science.\n",
            "\n",
            "2. **Choose Science Stream in 11th Grade:**\n",
            "   - Enroll in the Science stream with Mathematics as a core subject.\n",
            "   - Consider taking additional subjects like Computer Science or Physics.\n",
            "\n",
            "3. **Prepare for Engineering Entrance Exams:**\n",
            "   - Start preparing for competitive exams like JEE (Joint Entrance Examination) or state-level engineering entrance exams.\n",
            "   - Join coaching classes if necessary, or utilize online resources and study materials.\n",
            "\n",
            "4. **Participate in Extracurricular Activities:**\n",
            "   - Engage in science and math clubs, robotics competitions, or engineering workshops to enhance practical skills.\n",
            "\n",
            "5. **Complete 12th Grade:**\n",
            "   - Focus on achieving high marks in Physics, Chemistry, and Mathematics.\n",
            "\n",
            "6. **Take Engineering Entrance Exams:**\n",
            "   - Register and appear for the entrance exams in the final year of 12th grade.\n",
            "\n",
            "7. **Choose an Engineering College:**\n",
            "   - Based on entrance exam scores, apply to engineering colleges that align with your interests (e.g., Mechanical, Civil, Computer Science).\n",
            "\n",
            "8. **Complete Engineering Degree:**\n",
            "   - Enroll in a 4-year engineering program and focus on gaining practical experience through internships.\n",
            "\n",
            "9. **Pursue Further Specialization (Optional):**\n",
            "   - Consider pursuing a Master’s degree or certifications in a specialized field of engineering.\n",
            "\n",
            "---\n",
            "\n",
            "### 2. Data Science\n",
            "\n",
            "**Roadmap to Becoming a Data Scientist:**\n",
            "\n",
            "1. **Complete 10th Grade:**\n",
            "   - Maintain strong grades in Mathematics and Science.\n",
            "\n",
            "2. **Choose Science Stream in 11th Grade:**\n",
            "   - Enroll in the Science stream with Mathematics and consider taking Computer Science.\n",
            "\n",
            "3. **Learn Programming Languages:**\n",
            "   - Start learning programming languages like Python or R through online courses or tutorials.\n",
            "\n",
            "4. **Focus on Statistics and Mathematics:**\n",
            "   - Take additional courses in statistics and advanced mathematics to build a strong foundation.\n",
            "\n",
            "5. **Complete 12th Grade:**\n",
            "   - Aim for high marks in Mathematics and Computer Science.\n",
            "\n",
            "6. **Pursue a Bachelor’s Degree:**\n",
            "   - Enroll in a Bachelor’s program in Data Science, Computer Science, Statistics, or Mathematics.\n",
            "\n",
            "7. **Gain Practical Experience:**\n",
            "   - Participate in internships, projects, or competitions (like Kaggle) to apply data analysis skills.\n",
            "\n",
            "8. **Learn Data Visualization Tools:**\n",
            "   - Familiarize yourself with tools like Tableau or Power BI for data visualization.\n",
            "\n",
            "9. **Consider a Master’s Degree (Optional):**\n",
            "   - Pursue a Master’s in Data Science or a related field for advanced knowledge and better job prospects.\n",
            "\n",
            "10. **Stay Updated:**\n",
            "    - Continuously learn about new tools and technologies in data science through online courses and workshops.\n",
            "\n",
            "---\n",
            "\n",
            "### 3. Research Scientist\n",
            "\n",
            "**Roadmap to Becoming a Research Scientist:**\n",
            "\n",
            "1. **Complete 10th Grade:**\n",
            "   - Focus on excelling in Science and Mathematics.\n",
            "\n",
            "2. **Choose Science Stream in 11th Grade:**\n",
            "   - Enroll in the Science stream with a focus on Physics, Chemistry, and Mathematics.\n",
            "\n",
            "3. **Engage in Research Projects:**\n",
            "   - Participate in science fairs, Olympiads, or research projects to gain experience.\n",
            "\n",
            "4. **Complete 12th Grade:**\n",
            "   - Aim for high marks in Science subjects.\n",
            "\n",
            "5. **Pursue a Bachelor’s Degree:**\n",
            "   - Enroll in a Bachelor’s program in a relevant field (e.g., Physics, Chemistry, Biology).\n",
            "\n",
            "6. **Get Involved in Research:**\n",
            "   - Seek internships or assistant positions in research labs during your undergraduate studies.\n",
            "\n",
            "7. **Consider a Master’s Degree:**\n",
            "   - Pursue a Master’s in your chosen field of research to deepen your knowledge.\n",
            "\n",
            "8. **Engage in Research Work:**\n",
            "   - Work on research projects, publish papers, and attend conferences to build a professional network.\n",
            "\n",
            "9. **Pursue a Ph.D.:**\n",
            "   - Enroll in a Ph.D. program to conduct original research and contribute to your field.\n",
            "\n",
            "10. **Seek Postdoctoral Opportunities:**\n",
            "    - After completing your Ph.D., consider postdoctoral research positions to further specialize.\n",
            "\n",
            "11. **Apply for Research Positions:**\n",
            "    - Look for research scientist roles in academia, industry, or government research organizations.\n",
            "\n",
            "---\n",
            "\n",
            "### Conclusion\n",
            "\n",
            "Aarav has a bright future ahead in any of these fields, given his strong academic background and personal qualities. By following these roadmaps, he can systematically work towards achieving his career goals while also enjoying the journey of learning and personal growth.\n"
          ]
        }
      ]
    },
    {
      "cell_type": "markdown",
      "source": [
        "#5) Final solution"
      ],
      "metadata": {
        "id": "G_5Elh9-GmmB"
      }
    },
    {
      "cell_type": "code",
      "source": [
        "main_chain=(\n",
        "    main_1st_chain\n",
        "    |\n",
        "    main_2nd_chain\n",
        "    |\n",
        "    main_3rd_chain\n",
        "    |\n",
        "    main_4th_chain\n",
        ")"
      ],
      "metadata": {
        "id": "cL0u2OMaGH1o"
      },
      "execution_count": 91,
      "outputs": []
    },
    {
      "cell_type": "code",
      "source": [
        "result=main_chain.map().invoke(students_data)"
      ],
      "metadata": {
        "id": "vpBym-6pIcWE"
      },
      "execution_count": 92,
      "outputs": []
    },
    {
      "cell_type": "code",
      "source": [
        "print(result[0])"
      ],
      "metadata": {
        "colab": {
          "base_uri": "https://localhost:8080/"
        },
        "id": "o4XzZ4FUIyY3",
        "outputId": "44c145a0-a74f-4ccb-f3dd-87182d863cda"
      },
      "execution_count": 93,
      "outputs": [
        {
          "output_type": "stream",
          "name": "stdout",
          "text": [
            "{'Summary': '**Student Summary:**\\n\\n- **Name:** Rohan Gupta\\n- **Class:** X\\n- **Academic Performance:** \\n  - Computer Science: 95\\n  - Mathematics: 93\\n  - English: 78\\n  - History: 70\\n  - Hindi: 72\\n- **Hobbies:** Coding, Playing chess, Reading tech blogs\\n- **Qualities:** Logical thinking, Problem-solving, Teamwork\\n- **Certifications:** Python Basics (Coursera)', 'Critical_Analysis': '```markdown\\n# Student Profile Analysis: Rohan Gupta\\n\\n## Key Strengths\\n- **Academic Performance:**\\n  - High marks in key subjects:\\n    - Computer Science: 95\\n    - Mathematics: 93\\n- **Qualities:**\\n  - Logical thinking\\n  - Problem-solving\\n  - Teamwork\\n- **Hobbies:**\\n  - Coding\\n  - Playing chess\\n  - Reading tech blogs\\n- **Certifications:**\\n  - Python Basics (Coursera)\\n\\n## Weaknesses\\n- **Academic Areas:**\\n  - Lower marks in:\\n    - English: 78\\n    - History: 70\\n    - Hindi: 72\\n- **Personal Development:**\\n  - Poor handwriting\\n  - Nervousness in public speaking\\n```\\n', 'Possible_Career': \"1. Software Development - Rohan's strong marks in Computer Science and Mathematics, along with his coding hobby, make him well-suited for a career in software development.\\n2. Data Science - His logical thinking and problem-solving skills, combined with a solid foundation in mathematics, position him well for a future in data science.\\n3. Cybersecurity - Rohan's interest in technology and coding, along with his analytical skills, suggest he could excel in the growing field of cybersecurity.\\n4. Game Development - His coding skills and passion for technology, along with teamwork qualities, make game development a fitting career choice for him.\\n5. IT Project Management - Rohan's teamwork abilities and logical thinking can be effectively utilized in managing IT projects, despite his public speaking nervousness.\", 'stream': 'ScienceMaths', 'CareerGuidance': \"Based on Rohan Gupta's strengths, interests, and academic performance, here are the top three career goals he can pursue in the Science with Mathematics stream, along with a detailed roadmap for each:\\n\\n### 1. Software Development\\n\\n**Roadmap:**\\n\\n**After 10th Class:**\\n1. **Choose Science Stream with Mathematics:** Enroll in a Science stream with Mathematics in 11th grade.\\n2. **Focus on Computer Science:** Take Computer Science as a subject in 11th and 12th grades to strengthen programming skills.\\n3. **Enhance Coding Skills:** Continue learning programming languages (e.g., Python, Java, C++) through online courses and projects.\\n4. **Participate in Coding Competitions:** Join coding competitions (like CodeChef, HackerRank) to improve problem-solving skills.\\n\\n**After 12th Class:**\\n5. **Pursue a Bachelor's Degree:** Enroll in a B.Tech or B.Sc. in Computer Science or Software Engineering.\\n6. **Internships:** Apply for internships during college to gain practical experience.\\n7. **Build a Portfolio:** Work on personal projects and contribute to open-source projects to showcase skills.\\n8. **Networking:** Attend tech meetups and workshops to connect with professionals in the field.\\n\\n**Post Graduation:**\\n9. **Job Applications:** Apply for entry-level software development positions.\\n10. **Continuous Learning:** Stay updated with new technologies and frameworks through online courses and certifications.\\n\\n---\\n\\n### 2. Data Science\\n\\n**Roadmap:**\\n\\n**After 10th Class:**\\n1. **Choose Science Stream with Mathematics:** Enroll in a Science stream with Mathematics in 11th grade.\\n2. **Focus on Statistics and Computer Science:** Take subjects that enhance statistical knowledge and programming skills.\\n3. **Learn Data Analysis Tools:** Start learning tools like Excel, R, or Python for data analysis through online courses.\\n\\n**After 12th Class:**\\n4. **Pursue a Bachelor's Degree:** Enroll in a B.Sc. in Data Science, Statistics, or Computer Science.\\n5. **Online Courses:** Take specialized courses in data science, machine learning, and data visualization (e.g., Coursera, edX).\\n6. **Internships:** Seek internships in data analysis or related fields to gain hands-on experience.\\n7. **Projects:** Work on data science projects to build a portfolio showcasing your skills.\\n\\n**Post Graduation:**\\n8. **Master's Degree (Optional):** Consider pursuing a Master's in Data Science or a related field for advanced knowledge.\\n9. **Job Applications:** Apply for data analyst or data scientist positions.\\n10. **Continuous Learning:** Keep learning about new data science tools and techniques to stay relevant in the field.\\n\\n---\\n\\n### 3. Cybersecurity\\n\\n**Roadmap:**\\n\\n**After 10th Class:**\\n1. **Choose Science Stream with Mathematics:** Enroll in a Science stream with Mathematics in 11th grade.\\n2. **Focus on Computer Science:** Take Computer Science as a subject to build a strong foundation in IT.\\n3. **Learn Networking Basics:** Start learning about computer networks and security concepts through online resources.\\n\\n**After 12th Class:**\\n4. **Pursue a Bachelor's Degree:** Enroll in a B.Tech in Cybersecurity, Information Technology, or Computer Science.\\n5. **Certifications:** Obtain cybersecurity certifications (e.g., CompTIA Security+, Certified Ethical Hacker) to enhance knowledge and credibility.\\n6. **Internships:** Look for internships in IT security or related fields to gain practical experience.\\n7. **Participate in Cybersecurity Competitions:** Join Capture The Flag (CTF) competitions to sharpen skills.\\n\\n**Post Graduation:**\\n8. **Job Applications:** Apply for entry-level positions in cybersecurity, such as security analyst or penetration tester.\\n9. **Networking:** Join cybersecurity forums and attend conferences to connect with industry professionals.\\n10. **Continuous Learning:** Stay updated with the latest cybersecurity trends and threats through courses and certifications.\\n\\n---\\n\\n### Conclusion\\n\\nRohan should choose a career path that aligns with his interests and strengths. Each of these career goals offers a promising future, and the roadmaps provide a clear path to achieving them. By focusing on his studies, enhancing his skills, and gaining practical experience, Rohan can successfully navigate his way to a fulfilling career in the field of his choice.\"}\n"
          ]
        }
      ]
    },
    {
      "cell_type": "code",
      "source": [
        "import pandas as pd\n",
        "data=pd.DataFrame(result)"
      ],
      "metadata": {
        "id": "35_F192tI_-I"
      },
      "execution_count": 94,
      "outputs": []
    },
    {
      "cell_type": "code",
      "source": [
        "data"
      ],
      "metadata": {
        "colab": {
          "base_uri": "https://localhost:8080/",
          "height": 143
        },
        "id": "7MJGKSsKJG3m",
        "outputId": "1a20c04c-aab6-4b04-f230-75b3c7f7166f"
      },
      "execution_count": 95,
      "outputs": [
        {
          "output_type": "execute_result",
          "data": {
            "text/plain": [
              "                                             Summary  \\\n",
              "0  **Student Summary:**\\n\\n- **Name:** Rohan Gupt...   \n",
              "1  **Student Summary:**\\n\\n- **Name:** Priya Nair...   \n",
              "2  **Student Summary:**\\n\\n- **Name:** Aarav Shar...   \n",
              "\n",
              "                                   Critical_Analysis  \\\n",
              "0  ```markdown\\n# Student Profile Analysis: Rohan...   \n",
              "1  ```markdown\\n# Student Profile Analysis: Priya...   \n",
              "2  ```markdown\\n# Student Profile Analysis: Aarav...   \n",
              "\n",
              "                                     Possible_Career        stream  \\\n",
              "0  1. Software Development - Rohan's strong marks...  ScienceMaths   \n",
              "1  1. Fine Arts - Priya's strong qualities in dra...          Arts   \n",
              "2  1. Engineering - Aarav's strong marks in Mathe...  ScienceMaths   \n",
              "\n",
              "                                      CareerGuidance  \n",
              "0  Based on Rohan Gupta's strengths, interests, a...  \n",
              "1  Based on Priya Nair's strengths, interests, an...  \n",
              "2  Based on Aarav Sharma's strong academic perfor...  "
            ],
            "text/html": [
              "\n",
              "  <div id=\"df-22f03f34-b7ec-4a6a-a339-3008fcd8c757\" class=\"colab-df-container\">\n",
              "    <div>\n",
              "<style scoped>\n",
              "    .dataframe tbody tr th:only-of-type {\n",
              "        vertical-align: middle;\n",
              "    }\n",
              "\n",
              "    .dataframe tbody tr th {\n",
              "        vertical-align: top;\n",
              "    }\n",
              "\n",
              "    .dataframe thead th {\n",
              "        text-align: right;\n",
              "    }\n",
              "</style>\n",
              "<table border=\"1\" class=\"dataframe\">\n",
              "  <thead>\n",
              "    <tr style=\"text-align: right;\">\n",
              "      <th></th>\n",
              "      <th>Summary</th>\n",
              "      <th>Critical_Analysis</th>\n",
              "      <th>Possible_Career</th>\n",
              "      <th>stream</th>\n",
              "      <th>CareerGuidance</th>\n",
              "    </tr>\n",
              "  </thead>\n",
              "  <tbody>\n",
              "    <tr>\n",
              "      <th>0</th>\n",
              "      <td>**Student Summary:**\\n\\n- **Name:** Rohan Gupt...</td>\n",
              "      <td>```markdown\\n# Student Profile Analysis: Rohan...</td>\n",
              "      <td>1. Software Development - Rohan's strong marks...</td>\n",
              "      <td>ScienceMaths</td>\n",
              "      <td>Based on Rohan Gupta's strengths, interests, a...</td>\n",
              "    </tr>\n",
              "    <tr>\n",
              "      <th>1</th>\n",
              "      <td>**Student Summary:**\\n\\n- **Name:** Priya Nair...</td>\n",
              "      <td>```markdown\\n# Student Profile Analysis: Priya...</td>\n",
              "      <td>1. Fine Arts - Priya's strong qualities in dra...</td>\n",
              "      <td>Arts</td>\n",
              "      <td>Based on Priya Nair's strengths, interests, an...</td>\n",
              "    </tr>\n",
              "    <tr>\n",
              "      <th>2</th>\n",
              "      <td>**Student Summary:**\\n\\n- **Name:** Aarav Shar...</td>\n",
              "      <td>```markdown\\n# Student Profile Analysis: Aarav...</td>\n",
              "      <td>1. Engineering - Aarav's strong marks in Mathe...</td>\n",
              "      <td>ScienceMaths</td>\n",
              "      <td>Based on Aarav Sharma's strong academic perfor...</td>\n",
              "    </tr>\n",
              "  </tbody>\n",
              "</table>\n",
              "</div>\n",
              "    <div class=\"colab-df-buttons\">\n",
              "\n",
              "  <div class=\"colab-df-container\">\n",
              "    <button class=\"colab-df-convert\" onclick=\"convertToInteractive('df-22f03f34-b7ec-4a6a-a339-3008fcd8c757')\"\n",
              "            title=\"Convert this dataframe to an interactive table.\"\n",
              "            style=\"display:none;\">\n",
              "\n",
              "  <svg xmlns=\"http://www.w3.org/2000/svg\" height=\"24px\" viewBox=\"0 -960 960 960\">\n",
              "    <path d=\"M120-120v-720h720v720H120Zm60-500h600v-160H180v160Zm220 220h160v-160H400v160Zm0 220h160v-160H400v160ZM180-400h160v-160H180v160Zm440 0h160v-160H620v160ZM180-180h160v-160H180v160Zm440 0h160v-160H620v160Z\"/>\n",
              "  </svg>\n",
              "    </button>\n",
              "\n",
              "  <style>\n",
              "    .colab-df-container {\n",
              "      display:flex;\n",
              "      gap: 12px;\n",
              "    }\n",
              "\n",
              "    .colab-df-convert {\n",
              "      background-color: #E8F0FE;\n",
              "      border: none;\n",
              "      border-radius: 50%;\n",
              "      cursor: pointer;\n",
              "      display: none;\n",
              "      fill: #1967D2;\n",
              "      height: 32px;\n",
              "      padding: 0 0 0 0;\n",
              "      width: 32px;\n",
              "    }\n",
              "\n",
              "    .colab-df-convert:hover {\n",
              "      background-color: #E2EBFA;\n",
              "      box-shadow: 0px 1px 2px rgba(60, 64, 67, 0.3), 0px 1px 3px 1px rgba(60, 64, 67, 0.15);\n",
              "      fill: #174EA6;\n",
              "    }\n",
              "\n",
              "    .colab-df-buttons div {\n",
              "      margin-bottom: 4px;\n",
              "    }\n",
              "\n",
              "    [theme=dark] .colab-df-convert {\n",
              "      background-color: #3B4455;\n",
              "      fill: #D2E3FC;\n",
              "    }\n",
              "\n",
              "    [theme=dark] .colab-df-convert:hover {\n",
              "      background-color: #434B5C;\n",
              "      box-shadow: 0px 1px 3px 1px rgba(0, 0, 0, 0.15);\n",
              "      filter: drop-shadow(0px 1px 2px rgba(0, 0, 0, 0.3));\n",
              "      fill: #FFFFFF;\n",
              "    }\n",
              "  </style>\n",
              "\n",
              "    <script>\n",
              "      const buttonEl =\n",
              "        document.querySelector('#df-22f03f34-b7ec-4a6a-a339-3008fcd8c757 button.colab-df-convert');\n",
              "      buttonEl.style.display =\n",
              "        google.colab.kernel.accessAllowed ? 'block' : 'none';\n",
              "\n",
              "      async function convertToInteractive(key) {\n",
              "        const element = document.querySelector('#df-22f03f34-b7ec-4a6a-a339-3008fcd8c757');\n",
              "        const dataTable =\n",
              "          await google.colab.kernel.invokeFunction('convertToInteractive',\n",
              "                                                    [key], {});\n",
              "        if (!dataTable) return;\n",
              "\n",
              "        const docLinkHtml = 'Like what you see? Visit the ' +\n",
              "          '<a target=\"_blank\" href=https://colab.research.google.com/notebooks/data_table.ipynb>data table notebook</a>'\n",
              "          + ' to learn more about interactive tables.';\n",
              "        element.innerHTML = '';\n",
              "        dataTable['output_type'] = 'display_data';\n",
              "        await google.colab.output.renderOutput(dataTable, element);\n",
              "        const docLink = document.createElement('div');\n",
              "        docLink.innerHTML = docLinkHtml;\n",
              "        element.appendChild(docLink);\n",
              "      }\n",
              "    </script>\n",
              "  </div>\n",
              "\n",
              "\n",
              "    <div id=\"df-2a602bfa-b802-4380-8db5-6cf185ce60f5\">\n",
              "      <button class=\"colab-df-quickchart\" onclick=\"quickchart('df-2a602bfa-b802-4380-8db5-6cf185ce60f5')\"\n",
              "                title=\"Suggest charts\"\n",
              "                style=\"display:none;\">\n",
              "\n",
              "<svg xmlns=\"http://www.w3.org/2000/svg\" height=\"24px\"viewBox=\"0 0 24 24\"\n",
              "     width=\"24px\">\n",
              "    <g>\n",
              "        <path d=\"M19 3H5c-1.1 0-2 .9-2 2v14c0 1.1.9 2 2 2h14c1.1 0 2-.9 2-2V5c0-1.1-.9-2-2-2zM9 17H7v-7h2v7zm4 0h-2V7h2v10zm4 0h-2v-4h2v4z\"/>\n",
              "    </g>\n",
              "</svg>\n",
              "      </button>\n",
              "\n",
              "<style>\n",
              "  .colab-df-quickchart {\n",
              "      --bg-color: #E8F0FE;\n",
              "      --fill-color: #1967D2;\n",
              "      --hover-bg-color: #E2EBFA;\n",
              "      --hover-fill-color: #174EA6;\n",
              "      --disabled-fill-color: #AAA;\n",
              "      --disabled-bg-color: #DDD;\n",
              "  }\n",
              "\n",
              "  [theme=dark] .colab-df-quickchart {\n",
              "      --bg-color: #3B4455;\n",
              "      --fill-color: #D2E3FC;\n",
              "      --hover-bg-color: #434B5C;\n",
              "      --hover-fill-color: #FFFFFF;\n",
              "      --disabled-bg-color: #3B4455;\n",
              "      --disabled-fill-color: #666;\n",
              "  }\n",
              "\n",
              "  .colab-df-quickchart {\n",
              "    background-color: var(--bg-color);\n",
              "    border: none;\n",
              "    border-radius: 50%;\n",
              "    cursor: pointer;\n",
              "    display: none;\n",
              "    fill: var(--fill-color);\n",
              "    height: 32px;\n",
              "    padding: 0;\n",
              "    width: 32px;\n",
              "  }\n",
              "\n",
              "  .colab-df-quickchart:hover {\n",
              "    background-color: var(--hover-bg-color);\n",
              "    box-shadow: 0 1px 2px rgba(60, 64, 67, 0.3), 0 1px 3px 1px rgba(60, 64, 67, 0.15);\n",
              "    fill: var(--button-hover-fill-color);\n",
              "  }\n",
              "\n",
              "  .colab-df-quickchart-complete:disabled,\n",
              "  .colab-df-quickchart-complete:disabled:hover {\n",
              "    background-color: var(--disabled-bg-color);\n",
              "    fill: var(--disabled-fill-color);\n",
              "    box-shadow: none;\n",
              "  }\n",
              "\n",
              "  .colab-df-spinner {\n",
              "    border: 2px solid var(--fill-color);\n",
              "    border-color: transparent;\n",
              "    border-bottom-color: var(--fill-color);\n",
              "    animation:\n",
              "      spin 1s steps(1) infinite;\n",
              "  }\n",
              "\n",
              "  @keyframes spin {\n",
              "    0% {\n",
              "      border-color: transparent;\n",
              "      border-bottom-color: var(--fill-color);\n",
              "      border-left-color: var(--fill-color);\n",
              "    }\n",
              "    20% {\n",
              "      border-color: transparent;\n",
              "      border-left-color: var(--fill-color);\n",
              "      border-top-color: var(--fill-color);\n",
              "    }\n",
              "    30% {\n",
              "      border-color: transparent;\n",
              "      border-left-color: var(--fill-color);\n",
              "      border-top-color: var(--fill-color);\n",
              "      border-right-color: var(--fill-color);\n",
              "    }\n",
              "    40% {\n",
              "      border-color: transparent;\n",
              "      border-right-color: var(--fill-color);\n",
              "      border-top-color: var(--fill-color);\n",
              "    }\n",
              "    60% {\n",
              "      border-color: transparent;\n",
              "      border-right-color: var(--fill-color);\n",
              "    }\n",
              "    80% {\n",
              "      border-color: transparent;\n",
              "      border-right-color: var(--fill-color);\n",
              "      border-bottom-color: var(--fill-color);\n",
              "    }\n",
              "    90% {\n",
              "      border-color: transparent;\n",
              "      border-bottom-color: var(--fill-color);\n",
              "    }\n",
              "  }\n",
              "</style>\n",
              "\n",
              "      <script>\n",
              "        async function quickchart(key) {\n",
              "          const quickchartButtonEl =\n",
              "            document.querySelector('#' + key + ' button');\n",
              "          quickchartButtonEl.disabled = true;  // To prevent multiple clicks.\n",
              "          quickchartButtonEl.classList.add('colab-df-spinner');\n",
              "          try {\n",
              "            const charts = await google.colab.kernel.invokeFunction(\n",
              "                'suggestCharts', [key], {});\n",
              "          } catch (error) {\n",
              "            console.error('Error during call to suggestCharts:', error);\n",
              "          }\n",
              "          quickchartButtonEl.classList.remove('colab-df-spinner');\n",
              "          quickchartButtonEl.classList.add('colab-df-quickchart-complete');\n",
              "        }\n",
              "        (() => {\n",
              "          let quickchartButtonEl =\n",
              "            document.querySelector('#df-2a602bfa-b802-4380-8db5-6cf185ce60f5 button');\n",
              "          quickchartButtonEl.style.display =\n",
              "            google.colab.kernel.accessAllowed ? 'block' : 'none';\n",
              "        })();\n",
              "      </script>\n",
              "    </div>\n",
              "\n",
              "  <div id=\"id_050d5f99-a218-4696-9272-1da6aa9f57c4\">\n",
              "    <style>\n",
              "      .colab-df-generate {\n",
              "        background-color: #E8F0FE;\n",
              "        border: none;\n",
              "        border-radius: 50%;\n",
              "        cursor: pointer;\n",
              "        display: none;\n",
              "        fill: #1967D2;\n",
              "        height: 32px;\n",
              "        padding: 0 0 0 0;\n",
              "        width: 32px;\n",
              "      }\n",
              "\n",
              "      .colab-df-generate:hover {\n",
              "        background-color: #E2EBFA;\n",
              "        box-shadow: 0px 1px 2px rgba(60, 64, 67, 0.3), 0px 1px 3px 1px rgba(60, 64, 67, 0.15);\n",
              "        fill: #174EA6;\n",
              "      }\n",
              "\n",
              "      [theme=dark] .colab-df-generate {\n",
              "        background-color: #3B4455;\n",
              "        fill: #D2E3FC;\n",
              "      }\n",
              "\n",
              "      [theme=dark] .colab-df-generate:hover {\n",
              "        background-color: #434B5C;\n",
              "        box-shadow: 0px 1px 3px 1px rgba(0, 0, 0, 0.15);\n",
              "        filter: drop-shadow(0px 1px 2px rgba(0, 0, 0, 0.3));\n",
              "        fill: #FFFFFF;\n",
              "      }\n",
              "    </style>\n",
              "    <button class=\"colab-df-generate\" onclick=\"generateWithVariable('data')\"\n",
              "            title=\"Generate code using this dataframe.\"\n",
              "            style=\"display:none;\">\n",
              "\n",
              "  <svg xmlns=\"http://www.w3.org/2000/svg\" height=\"24px\"viewBox=\"0 0 24 24\"\n",
              "       width=\"24px\">\n",
              "    <path d=\"M7,19H8.4L18.45,9,17,7.55,7,17.6ZM5,21V16.75L18.45,3.32a2,2,0,0,1,2.83,0l1.4,1.43a1.91,1.91,0,0,1,.58,1.4,1.91,1.91,0,0,1-.58,1.4L9.25,21ZM18.45,9,17,7.55Zm-12,3A5.31,5.31,0,0,0,4.9,8.1,5.31,5.31,0,0,0,1,6.5,5.31,5.31,0,0,0,4.9,4.9,5.31,5.31,0,0,0,6.5,1,5.31,5.31,0,0,0,8.1,4.9,5.31,5.31,0,0,0,12,6.5,5.46,5.46,0,0,0,6.5,12Z\"/>\n",
              "  </svg>\n",
              "    </button>\n",
              "    <script>\n",
              "      (() => {\n",
              "      const buttonEl =\n",
              "        document.querySelector('#id_050d5f99-a218-4696-9272-1da6aa9f57c4 button.colab-df-generate');\n",
              "      buttonEl.style.display =\n",
              "        google.colab.kernel.accessAllowed ? 'block' : 'none';\n",
              "\n",
              "      buttonEl.onclick = () => {\n",
              "        google.colab.notebook.generateWithVariable('data');\n",
              "      }\n",
              "      })();\n",
              "    </script>\n",
              "  </div>\n",
              "\n",
              "    </div>\n",
              "  </div>\n"
            ],
            "application/vnd.google.colaboratory.intrinsic+json": {
              "type": "dataframe",
              "variable_name": "data",
              "summary": "{\n  \"name\": \"data\",\n  \"rows\": 3,\n  \"fields\": [\n    {\n      \"column\": \"Summary\",\n      \"properties\": {\n        \"dtype\": \"string\",\n        \"num_unique_values\": 3,\n        \"samples\": [\n          \"**Student Summary:**\\n\\n- **Name:** Rohan Gupta\\n- **Class:** X\\n- **Academic Performance:** \\n  - Computer Science: 95\\n  - Mathematics: 93\\n  - English: 78\\n  - History: 70\\n  - Hindi: 72\\n- **Hobbies:** Coding, Playing chess, Reading tech blogs\\n- **Qualities:** Logical thinking, Problem-solving, Teamwork\\n- **Certifications:** Python Basics (Coursera)\",\n          \"**Student Summary:**\\n\\n- **Name:** Priya Nair\\n- **Class:** 10th Standard\\n- **Academic Performance:** \\n  - Mathematics: 65\\n  - Physics: 70\\n  - English: 90\\n  - History: 95\\n  - Geography: 92\\n- **Hobbies:** Dancing, Sketching, Listening to music\\n- **Qualities:** Creative thinker, skilled in drawing and painting, excels in arts subjects\\n- **Certifications:** Awarded 2 certificates in school art competitions\",\n          \"**Student Summary:**\\n\\n- **Name:** Aarav Sharma\\n- **Class:** 10th\\n- **Academic Performance:** \\n  - Mathematics: 92\\n  - Science: 88\\n  - English: 75\\n  - Social Science: 80\\n  - Hindi: 85\\n- **Hobbies:** Playing cricket, Solving puzzle games\\n- **Qualities:** Hardworking, Punctual, Completes assignments on time\\n- **Certifications:** Certificate in Science Olympiad (Silver Medal)\"\n        ],\n        \"semantic_type\": \"\",\n        \"description\": \"\"\n      }\n    },\n    {\n      \"column\": \"Critical_Analysis\",\n      \"properties\": {\n        \"dtype\": \"string\",\n        \"num_unique_values\": 3,\n        \"samples\": [\n          \"```markdown\\n# Student Profile Analysis: Rohan Gupta\\n\\n## Key Strengths\\n- **Academic Performance:**\\n  - High marks in key subjects:\\n    - Computer Science: 95\\n    - Mathematics: 93\\n- **Qualities:**\\n  - Logical thinking\\n  - Problem-solving\\n  - Teamwork\\n- **Hobbies:**\\n  - Coding\\n  - Playing chess\\n  - Reading tech blogs\\n- **Certifications:**\\n  - Python Basics (Coursera)\\n\\n## Weaknesses\\n- **Academic Areas:**\\n  - Lower marks in:\\n    - English: 78\\n    - History: 70\\n    - Hindi: 72\\n- **Personal Development:**\\n  - Poor handwriting\\n  - Nervousness in public speaking\\n```\\n\",\n          \"```markdown\\n# Student Profile Analysis: Priya Nair\\n\\n## Key Strengths\\n- **Academic Performance:**\\n  - High marks in English (90), History (95), and Geography (92), indicating strong proficiency in these subjects.\\n- **Qualities:**\\n  - Creative thinker, often thinking outside the box.\\n  - Talented in drawing and painting, showcasing artistic abilities.\\n  - Strong skills in arts subjects, which may enhance her overall academic performance and creativity.\\n- **Hobbies:**\\n  - Engages in dancing and sketching, which reflect a well-rounded personality and creative expression.\\n- **Certifications:**\\n  - Awarded 2 certificates in school art competitions, demonstrating recognition of her artistic talents.\\n\\n## Weaknesses\\n- **Academic Performance:**\\n  - Lower marks in Mathematics (65) and Physics (70), indicating areas that may require improvement.\\n- **Identified Weaknesses:**\\n  - Explicitly listed weaknesses in Mathematics and Physics, suggesting a need for additional support or focus in these subjects.\\n- **Missing Areas:**\\n  - No certifications or achievements mentioned in Mathematics and Physics, which could indicate a lack of engagement or recognition in these subjects.\\n```\\n\",\n          \"```markdown\\n# Student Profile Analysis: Aarav Sharma\\n\\n## Key Strengths\\n- **Academic Performance:**\\n  - High marks in Mathematics (92) and Science (88), indicating strong analytical and problem-solving skills.\\n  - Good performance in Hindi (85) and Social Science (80), showcasing a well-rounded academic ability.\\n\\n- **Qualities:**\\n  - Hardworking: Demonstrates dedication to studies and tasks.\\n  - Punctual: Values time management and adheres to deadlines.\\n  - Completes assignments on time: Shows responsibility and commitment to academic work.\\n\\n- **Hobbies:**\\n  - Enjoys playing cricket, which indicates teamwork and physical fitness.\\n  - Engages in solving puzzle games, reflecting critical thinking and cognitive skills.\\n\\n- **Certifications:**\\n  - Achieved a Silver Medal in the Science Olympiad, highlighting excellence in science-related subjects.\\n\\n## Weaknesses\\n- **Academic Areas:**\\n  - Struggles with English grammar and spelling, which may affect overall communication skills and performance in English.\\n\\n- **Missing Areas:**\\n  - No mention of extracurricular activities beyond hobbies, which could indicate a need for broader engagement outside academics.\\n  - Lack of certifications in other subjects or skills, suggesting potential areas for further development.\\n```\"\n        ],\n        \"semantic_type\": \"\",\n        \"description\": \"\"\n      }\n    },\n    {\n      \"column\": \"Possible_Career\",\n      \"properties\": {\n        \"dtype\": \"string\",\n        \"num_unique_values\": 3,\n        \"samples\": [\n          \"1. Software Development - Rohan's strong marks in Computer Science and Mathematics, along with his coding hobby, make him well-suited for a career in software development.\\n2. Data Science - His logical thinking and problem-solving skills, combined with a solid foundation in mathematics, position him well for a future in data science.\\n3. Cybersecurity - Rohan's interest in technology and coding, along with his analytical skills, suggest he could excel in the growing field of cybersecurity.\\n4. Game Development - His coding skills and passion for technology, along with teamwork qualities, make game development a fitting career choice for him.\\n5. IT Project Management - Rohan's teamwork abilities and logical thinking can be effectively utilized in managing IT projects, despite his public speaking nervousness.\",\n          \"1. Fine Arts - Priya's strong qualities in drawing and painting, along with her certifications in art competitions, make her well-suited for a career in Fine Arts.\\n2. Graphic Design - Her creative thinking and skills in sketching can translate well into a career in graphic design, where artistic talent is essential.\\n3. Art Education - With her passion for arts and experience in competitions, she could inspire others as an art educator, combining her love for art and teaching.\\n4. Interior Design - Priya's artistic abilities and creative thinking can be effectively utilized in interior design, where aesthetics and functionality are key.\\n5. Animation - Given her interests in arts and creativity, a career in animation could allow her to combine her drawing skills with technology in a dynamic field.\",\n          \"1. Engineering - Aarav's strong marks in Mathematics and Science indicate a solid foundation for pursuing a career in engineering, where analytical skills are crucial.\\n2. Data Science - His interest in solving puzzle games suggests strong problem-solving abilities, which are essential in the growing field of data science.\\n3. Research Scientist - With a certification in Science Olympiad and high marks in Science, Aarav could excel in research, contributing to scientific advancements.\\n4. Teaching - His hardworking nature and punctuality make him suitable for a career in education, where he can inspire and guide future students.\\n5. Sports Management - Aarav's hobby of playing cricket could lead him to a career in sports management, combining his passion for sports with organizational skills.\"\n        ],\n        \"semantic_type\": \"\",\n        \"description\": \"\"\n      }\n    },\n    {\n      \"column\": \"stream\",\n      \"properties\": {\n        \"dtype\": \"string\",\n        \"num_unique_values\": 2,\n        \"samples\": [\n          \"Arts\",\n          \"ScienceMaths\"\n        ],\n        \"semantic_type\": \"\",\n        \"description\": \"\"\n      }\n    },\n    {\n      \"column\": \"CareerGuidance\",\n      \"properties\": {\n        \"dtype\": \"string\",\n        \"num_unique_values\": 3,\n        \"samples\": [\n          \"Based on Rohan Gupta's strengths, interests, and academic performance, here are the top three career goals he can pursue in the Science with Mathematics stream, along with a detailed roadmap for each:\\n\\n### 1. Software Development\\n\\n**Roadmap:**\\n\\n**After 10th Class:**\\n1. **Choose Science Stream with Mathematics:** Enroll in a Science stream with Mathematics in 11th grade.\\n2. **Focus on Computer Science:** Take Computer Science as a subject in 11th and 12th grades to strengthen programming skills.\\n3. **Enhance Coding Skills:** Continue learning programming languages (e.g., Python, Java, C++) through online courses and projects.\\n4. **Participate in Coding Competitions:** Join coding competitions (like CodeChef, HackerRank) to improve problem-solving skills.\\n\\n**After 12th Class:**\\n5. **Pursue a Bachelor's Degree:** Enroll in a B.Tech or B.Sc. in Computer Science or Software Engineering.\\n6. **Internships:** Apply for internships during college to gain practical experience.\\n7. **Build a Portfolio:** Work on personal projects and contribute to open-source projects to showcase skills.\\n8. **Networking:** Attend tech meetups and workshops to connect with professionals in the field.\\n\\n**Post Graduation:**\\n9. **Job Applications:** Apply for entry-level software development positions.\\n10. **Continuous Learning:** Stay updated with new technologies and frameworks through online courses and certifications.\\n\\n---\\n\\n### 2. Data Science\\n\\n**Roadmap:**\\n\\n**After 10th Class:**\\n1. **Choose Science Stream with Mathematics:** Enroll in a Science stream with Mathematics in 11th grade.\\n2. **Focus on Statistics and Computer Science:** Take subjects that enhance statistical knowledge and programming skills.\\n3. **Learn Data Analysis Tools:** Start learning tools like Excel, R, or Python for data analysis through online courses.\\n\\n**After 12th Class:**\\n4. **Pursue a Bachelor's Degree:** Enroll in a B.Sc. in Data Science, Statistics, or Computer Science.\\n5. **Online Courses:** Take specialized courses in data science, machine learning, and data visualization (e.g., Coursera, edX).\\n6. **Internships:** Seek internships in data analysis or related fields to gain hands-on experience.\\n7. **Projects:** Work on data science projects to build a portfolio showcasing your skills.\\n\\n**Post Graduation:**\\n8. **Master's Degree (Optional):** Consider pursuing a Master's in Data Science or a related field for advanced knowledge.\\n9. **Job Applications:** Apply for data analyst or data scientist positions.\\n10. **Continuous Learning:** Keep learning about new data science tools and techniques to stay relevant in the field.\\n\\n---\\n\\n### 3. Cybersecurity\\n\\n**Roadmap:**\\n\\n**After 10th Class:**\\n1. **Choose Science Stream with Mathematics:** Enroll in a Science stream with Mathematics in 11th grade.\\n2. **Focus on Computer Science:** Take Computer Science as a subject to build a strong foundation in IT.\\n3. **Learn Networking Basics:** Start learning about computer networks and security concepts through online resources.\\n\\n**After 12th Class:**\\n4. **Pursue a Bachelor's Degree:** Enroll in a B.Tech in Cybersecurity, Information Technology, or Computer Science.\\n5. **Certifications:** Obtain cybersecurity certifications (e.g., CompTIA Security+, Certified Ethical Hacker) to enhance knowledge and credibility.\\n6. **Internships:** Look for internships in IT security or related fields to gain practical experience.\\n7. **Participate in Cybersecurity Competitions:** Join Capture The Flag (CTF) competitions to sharpen skills.\\n\\n**Post Graduation:**\\n8. **Job Applications:** Apply for entry-level positions in cybersecurity, such as security analyst or penetration tester.\\n9. **Networking:** Join cybersecurity forums and attend conferences to connect with industry professionals.\\n10. **Continuous Learning:** Stay updated with the latest cybersecurity trends and threats through courses and certifications.\\n\\n---\\n\\n### Conclusion\\n\\nRohan should choose a career path that aligns with his interests and strengths. Each of these career goals offers a promising future, and the roadmaps provide a clear path to achieving them. By focusing on his studies, enhancing his skills, and gaining practical experience, Rohan can successfully navigate his way to a fulfilling career in the field of his choice.\",\n          \"Based on Priya Nair's strengths, interests, and academic performance, here are the top three career goals in the Arts stream, along with a practical roadmap for each:\\n\\n### 1. Fine Arts\\n\\n**Roadmap to a Career in Fine Arts:**\\n\\n1. **Complete 10th Grade:**\\n   - Focus on maintaining good grades, especially in arts subjects.\\n\\n2. **Choose Arts Stream in 11th Grade:**\\n   - Enroll in a school that offers Fine Arts as a subject.\\n\\n3. **Develop a Portfolio:**\\n   - Start creating a diverse portfolio showcasing your best artworks, including drawings, paintings, and any other mediums you enjoy.\\n\\n4. **Participate in Art Competitions:**\\n   - Continue entering local and national art competitions to gain exposure and recognition.\\n\\n5. **Attend Art Workshops:**\\n   - Join workshops or classes to learn new techniques and styles.\\n\\n6. **Complete 12th Grade:**\\n   - Focus on achieving good grades in Fine Arts and related subjects.\\n\\n7. **Pursue a Bachelor\\u2019s Degree in Fine Arts:**\\n   - Apply to colleges or universities that offer a Bachelor of Fine Arts (BFA) program.\\n\\n8. **Internships and Exhibitions:**\\n   - Seek internships with established artists or galleries and participate in exhibitions to gain practical experience.\\n\\n9. **Build a Professional Network:**\\n   - Connect with other artists, attend art shows, and join art communities.\\n\\n10. **Establish Your Art Career:**\\n    - Start selling your artwork, consider freelance opportunities, or apply for art-related jobs.\\n\\n---\\n\\n### 2. Graphic Design\\n\\n**Roadmap to a Career in Graphic Design:**\\n\\n1. **Complete 10th Grade:**\\n   - Maintain good grades, especially in subjects that enhance your creativity.\\n\\n2. **Choose Arts Stream in 11th Grade:**\\n   - Enroll in a school that offers Graphic Design or related subjects.\\n\\n3. **Learn Graphic Design Software:**\\n   - Start learning software like Adobe Photoshop, Illustrator, and InDesign through online courses or tutorials.\\n\\n4. **Create a Portfolio:**\\n   - Develop a portfolio that includes your graphic design projects, sketches, and any digital artwork.\\n\\n5. **Participate in Design Competitions:**\\n   - Enter graphic design competitions to showcase your skills and gain recognition.\\n\\n6. **Complete 12th Grade:**\\n   - Focus on achieving good grades in relevant subjects.\\n\\n7. **Pursue a Bachelor\\u2019s Degree in Graphic Design:**\\n   - Apply to colleges or universities that offer a Bachelor\\u2019s degree in Graphic Design or Visual Communication.\\n\\n8. **Internships:**\\n   - Seek internships with design firms or companies to gain practical experience.\\n\\n9. **Build a Professional Network:**\\n   - Attend design conferences, workshops, and networking events to connect with industry professionals.\\n\\n10. **Establish Your Career:**\\n    - Start freelancing, apply for graphic design positions, or consider starting your own design studio.\\n\\n---\\n\\n### 3. Art Education\\n\\n**Roadmap to a Career in Art Education:**\\n\\n1. **Complete 10th Grade:**\\n   - Focus on maintaining good grades, especially in arts and English.\\n\\n2. **Choose Arts Stream in 11th Grade:**\\n   - Enroll in a school that offers Art Education or related subjects.\\n\\n3. **Volunteer or Assist in Art Classes:**\\n   - Gain experience by volunteering in local schools or community centers to assist in art classes.\\n\\n4. **Develop a Teaching Portfolio:**\\n   - Create a portfolio that includes lesson plans, student artwork, and your own art.\\n\\n5. **Complete 12th Grade:**\\n   - Focus on achieving good grades in relevant subjects.\\n\\n6. **Pursue a Bachelor\\u2019s Degree in Art Education:**\\n   - Apply to colleges or universities that offer a Bachelor\\u2019s degree in Art Education.\\n\\n7. **Gain Teaching Experience:**\\n   - During your degree, seek internships or part-time jobs in schools to gain teaching experience.\\n\\n8. **Obtain Teaching Certification:**\\n   - Complete any required teaching certification or licensure programs.\\n\\n9. **Build a Professional Network:**\\n   - Connect with other educators, attend workshops, and join teaching associations.\\n\\n10. **Establish Your Career:**\\n    - Apply for teaching positions in schools, or consider starting your own art classes or workshops.\\n\\n---\\n\\n### Conclusion\\n\\nPriya has a bright future ahead in the Arts stream, and by following these roadmaps, she can effectively work towards her chosen career goals. Each path offers unique opportunities for creativity and personal expression, allowing her to thrive in a field she is passionate about.\"\n        ],\n        \"semantic_type\": \"\",\n        \"description\": \"\"\n      }\n    }\n  ]\n}"
            }
          },
          "metadata": {},
          "execution_count": 95
        }
      ]
    },
    {
      "cell_type": "code",
      "source": [
        "print(data.iloc[1]['CareerGuidance'])   # second row, column CareerGuidance\n"
      ],
      "metadata": {
        "colab": {
          "base_uri": "https://localhost:8080/"
        },
        "id": "RERQrekfJH36",
        "outputId": "dcced912-fb90-4de1-cef5-d0bd0c7ced13"
      },
      "execution_count": 97,
      "outputs": [
        {
          "output_type": "stream",
          "name": "stdout",
          "text": [
            "Based on Priya Nair's strengths, interests, and academic performance, here are the top three career goals in the Arts stream, along with a practical roadmap for each:\n",
            "\n",
            "### 1. Fine Arts\n",
            "\n",
            "**Roadmap to a Career in Fine Arts:**\n",
            "\n",
            "1. **Complete 10th Grade:**\n",
            "   - Focus on maintaining good grades, especially in arts subjects.\n",
            "\n",
            "2. **Choose Arts Stream in 11th Grade:**\n",
            "   - Enroll in a school that offers Fine Arts as a subject.\n",
            "\n",
            "3. **Develop a Portfolio:**\n",
            "   - Start creating a diverse portfolio showcasing your best artworks, including drawings, paintings, and any other mediums you enjoy.\n",
            "\n",
            "4. **Participate in Art Competitions:**\n",
            "   - Continue entering local and national art competitions to gain exposure and recognition.\n",
            "\n",
            "5. **Attend Art Workshops:**\n",
            "   - Join workshops or classes to learn new techniques and styles.\n",
            "\n",
            "6. **Complete 12th Grade:**\n",
            "   - Focus on achieving good grades in Fine Arts and related subjects.\n",
            "\n",
            "7. **Pursue a Bachelor’s Degree in Fine Arts:**\n",
            "   - Apply to colleges or universities that offer a Bachelor of Fine Arts (BFA) program.\n",
            "\n",
            "8. **Internships and Exhibitions:**\n",
            "   - Seek internships with established artists or galleries and participate in exhibitions to gain practical experience.\n",
            "\n",
            "9. **Build a Professional Network:**\n",
            "   - Connect with other artists, attend art shows, and join art communities.\n",
            "\n",
            "10. **Establish Your Art Career:**\n",
            "    - Start selling your artwork, consider freelance opportunities, or apply for art-related jobs.\n",
            "\n",
            "---\n",
            "\n",
            "### 2. Graphic Design\n",
            "\n",
            "**Roadmap to a Career in Graphic Design:**\n",
            "\n",
            "1. **Complete 10th Grade:**\n",
            "   - Maintain good grades, especially in subjects that enhance your creativity.\n",
            "\n",
            "2. **Choose Arts Stream in 11th Grade:**\n",
            "   - Enroll in a school that offers Graphic Design or related subjects.\n",
            "\n",
            "3. **Learn Graphic Design Software:**\n",
            "   - Start learning software like Adobe Photoshop, Illustrator, and InDesign through online courses or tutorials.\n",
            "\n",
            "4. **Create a Portfolio:**\n",
            "   - Develop a portfolio that includes your graphic design projects, sketches, and any digital artwork.\n",
            "\n",
            "5. **Participate in Design Competitions:**\n",
            "   - Enter graphic design competitions to showcase your skills and gain recognition.\n",
            "\n",
            "6. **Complete 12th Grade:**\n",
            "   - Focus on achieving good grades in relevant subjects.\n",
            "\n",
            "7. **Pursue a Bachelor’s Degree in Graphic Design:**\n",
            "   - Apply to colleges or universities that offer a Bachelor’s degree in Graphic Design or Visual Communication.\n",
            "\n",
            "8. **Internships:**\n",
            "   - Seek internships with design firms or companies to gain practical experience.\n",
            "\n",
            "9. **Build a Professional Network:**\n",
            "   - Attend design conferences, workshops, and networking events to connect with industry professionals.\n",
            "\n",
            "10. **Establish Your Career:**\n",
            "    - Start freelancing, apply for graphic design positions, or consider starting your own design studio.\n",
            "\n",
            "---\n",
            "\n",
            "### 3. Art Education\n",
            "\n",
            "**Roadmap to a Career in Art Education:**\n",
            "\n",
            "1. **Complete 10th Grade:**\n",
            "   - Focus on maintaining good grades, especially in arts and English.\n",
            "\n",
            "2. **Choose Arts Stream in 11th Grade:**\n",
            "   - Enroll in a school that offers Art Education or related subjects.\n",
            "\n",
            "3. **Volunteer or Assist in Art Classes:**\n",
            "   - Gain experience by volunteering in local schools or community centers to assist in art classes.\n",
            "\n",
            "4. **Develop a Teaching Portfolio:**\n",
            "   - Create a portfolio that includes lesson plans, student artwork, and your own art.\n",
            "\n",
            "5. **Complete 12th Grade:**\n",
            "   - Focus on achieving good grades in relevant subjects.\n",
            "\n",
            "6. **Pursue a Bachelor’s Degree in Art Education:**\n",
            "   - Apply to colleges or universities that offer a Bachelor’s degree in Art Education.\n",
            "\n",
            "7. **Gain Teaching Experience:**\n",
            "   - During your degree, seek internships or part-time jobs in schools to gain teaching experience.\n",
            "\n",
            "8. **Obtain Teaching Certification:**\n",
            "   - Complete any required teaching certification or licensure programs.\n",
            "\n",
            "9. **Build a Professional Network:**\n",
            "   - Connect with other educators, attend workshops, and join teaching associations.\n",
            "\n",
            "10. **Establish Your Career:**\n",
            "    - Apply for teaching positions in schools, or consider starting your own art classes or workshops.\n",
            "\n",
            "---\n",
            "\n",
            "### Conclusion\n",
            "\n",
            "Priya has a bright future ahead in the Arts stream, and by following these roadmaps, she can effectively work towards her chosen career goals. Each path offers unique opportunities for creativity and personal expression, allowing her to thrive in a field she is passionate about.\n"
          ]
        }
      ]
    },
    {
      "cell_type": "code",
      "source": [],
      "metadata": {
        "id": "12BKHQSDJSDM"
      },
      "execution_count": null,
      "outputs": []
    }
  ]
}